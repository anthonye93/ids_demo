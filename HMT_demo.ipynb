{
 "cells": [
  {
   "cell_type": "markdown",
   "id": "05bf6c63-17d7-411d-ac15-47b698e6f573",
   "metadata": {},
   "source": [
    "# IDS Integrated Data Asset Linkage demo\n",
    "\n",
    "This script is broadly intended to demonstrate how easily RDMF indexed data can be linked and thus prepared for analysts to use."
   ]
  },
  {
   "cell_type": "code",
   "execution_count": 2,
   "id": "fd23e2f3-c59f-46c5-acd1-f5afbd774424",
   "metadata": {},
   "outputs": [],
   "source": [
    "# import needed packages (not many!)\n",
    "from google.cloud import bigquery\n",
    "import pandas as pd"
   ]
  },
  {
   "cell_type": "code",
   "execution_count": 3,
   "id": "0d155d22-e798-477a-a522-cc5e3eb9f649",
   "metadata": {},
   "outputs": [],
   "source": [
    "# initiating client for bigquery\n",
    "client = bigquery.Client(location=\"europe-west2\")"
   ]
  },
  {
   "cell_type": "markdown",
   "id": "6c9eda21-9a44-4a79-ac22-53bf6cbcb54f",
   "metadata": {},
   "source": [
    "First, we need to link together the `std` and `georef` versions of the required assets, so that we have all of the data's attributed, along with it's geographic information that will link back to the address/geography indexes. These have internal `guid` columns this can be done with.\n",
    "\n",
    "Some minor engineering of the data is done at this stage, although most of this has already been done as part of the Integrated Data Asset creation:\n",
    "* replacing unneeded references to geographies in construction age band\n",
    "\n",
    "First, let's do this for the Energy Performance Certificates data, which will give us insights into housing energy efficiency:"
   ]
  },
  {
   "cell_type": "code",
   "execution_count": 12,
   "id": "d9f67937-5d6e-4cfb-b82c-cc16fd68cc80",
   "metadata": {},
   "outputs": [
    {
     "data": {
      "text/plain": [
       "<google.cloud.bigquery.table.RowIterator at 0x7fec2c1be890>"
      ]
     },
     "execution_count": 12,
     "metadata": {},
     "output_type": "execute_result"
    }
   ],
   "source": [
    "# EPC georef query\n",
    "# will also need address_entry_id to pull in address index info\n",
    "query = (\"\"\"\n",
    "\n",
    "SELECT\n",
    "  UPPER(lmk_key) AS lmk_key,\n",
    "  guid,\n",
    "  UPPER(current_energy_rating) AS current_energy_rating,\n",
    "  UPPER(potential_energy_rating) AS potential_energy_rating,\n",
    "  UPPER(REGEXP_REPLACE(construction_age_band, r'England and Wales: ', '')) AS construction_age_band\n",
    "FROM\n",
    "  `some_path_georef` t1\n",
    "JOIN\n",
    "  `some_path_std` t2\n",
    "ON\n",
    "  t1.id = t2.guid\n",
    "\n",
    "\"\"\")\n",
    "\n",
    "table_ref = 'ons-ids-analysis-prod.demo_wip_notebook.EPC_linked'\n",
    "\n",
    "job_config = bigquery.QueryJobConfig(\n",
    "    destination= table_ref\n",
    ")\n",
    "\n",
    "query_job = client.query(\n",
    "    query,\n",
    "    location=\"europe-west2\",\n",
    "    job_config = job_config\n",
    ")  # API request - starts the query\n"
   ]
  },
  {
   "cell_type": "markdown",
   "id": "14eb0750-6c4d-458f-ad3d-f7a71d96d10f",
   "metadata": {},
   "source": [
    "Next, let's do the same for the Land Registry Price Paid (LRPP) data, which will give us house sale price information:"
   ]
  },
  {
   "cell_type": "code",
   "execution_count": 47,
   "id": "864fd225-ba1d-492f-af10-109a54840e71",
   "metadata": {},
   "outputs": [
    {
     "data": {
      "text/plain": [
       "<google.cloud.bigquery.table.RowIterator at 0x7fec26702b90>"
      ]
     },
     "execution_count": 47,
     "metadata": {},
     "output_type": "execute_result"
    }
   ],
   "source": [
    "# joining georef and std LRPP tables\n",
    "query = (\"\"\"\n",
    "\n",
    "SELECT\n",
    "  *\n",
    "FROM\n",
    "  `ingest_ida_land_registry_price_paid.prices_paid_georef` t1\n",
    "JOIN\n",
    "  `ingest_ida_land_registry_price_paid.prices_paid_std` t2\n",
    "ON\n",
    "  t1.id = t2.guid\n",
    "\n",
    "\"\"\")\n",
    "table_ref = 'ons-ids-analysis-prod.demo_wip_notebook.lrpp_linked'\n",
    "\n",
    "job_config = bigquery.QueryJobConfig(\n",
    "    destination= table_ref\n",
    ")\n",
    "\n",
    "query_job = client.query(\n",
    "    query,\n",
    "    location=\"europe-west2\",\n",
    "    job_config=job_config\n",
    ")  # API request - starts the query\n",
    "\n",
    "\n",
    "query_job.result()"
   ]
  },
  {
   "cell_type": "markdown",
   "id": "17e5627d-c0a2-4a26-a3f9-c59711ccadda",
   "metadata": {},
   "source": [
    "Finally, and this is the bit where the Integrated Data Asset version of these datasets comes in handy, we can link all of these sources together on their `address_entry_id` variables. This is the lookup to the RDMF, specifically the address index, and is a unique identifier in this case.\n",
    "\n",
    "This has powerful implications on policy forming with future analysis; we have a consistent, simple join between these different datasets and the index, so all analysts will have the same reproducible outputs when joining these data to add extra information to their analysis that wasn't available before.\n",
    "\n",
    "We also have links to the geography and address indexes while the data stays totally deidentified. The analytical team can use these indexes to join on geography and address information to the data."
   ]
  },
  {
   "cell_type": "code",
   "execution_count": 103,
   "id": "81e192d7-5fcd-4d5d-8011-8e5e02623494",
   "metadata": {},
   "outputs": [
    {
     "data": {
      "text/plain": [
       "<google.cloud.bigquery.table.RowIterator at 0x7f5c033f0910>"
      ]
     },
     "execution_count": 103,
     "metadata": {},
     "output_type": "execute_result"
    }
   ],
   "source": [
    "# joining OSPOS and (newly joined) LRPP tables\n",
    "query = (\"\"\"\n",
    "\n",
    "SELECT\n",
    "  geography_entry_id_lsoa_code,\n",
    "  geography_entry_id_oa_code,\n",
    "  geography_entry_id_lad_code,\n",
    "  geography_entry_id_msoa_code,\n",
    "  geography_entry_id_country_code,\n",
    "  geography_entry_id_region_code,\n",
    "  lsoa_code_hashed,\n",
    "  oa_code_hashed,\n",
    "  lad_code_hashed,\n",
    "  msoa_code_hashed,\n",
    "  country_code_hashed,\n",
    "  region_code_hashed,\n",
    "  class,\n",
    "  voa_ct_record,\n",
    "  ruc_code,\n",
    "  ruc,\n",
    "  ur2fold,\n",
    "  ur3fold,\n",
    "  ur6fold,\n",
    "  ur8fold,\n",
    "  building_flat_count,\n",
    "  private_outdoor_space,\n",
    "  private_outdoor_space_area,\n",
    "  t1.address_entry_id_uprn,\n",
    "  t2.address_entry_id_uprn AS t2_address_entry_id_uprn,\n",
    "  t2.id,\n",
    "  apiversion,\n",
    "  confidencescore,\n",
    "  epoch,\n",
    "  underlyingscore,\n",
    "  t2.geography_entry_id_postcode,\n",
    "  t2.postcode_hashed,\n",
    "  t2.guid,\n",
    "  t2.transaction_uid,\n",
    "  price,\n",
    "  date_of_transfer,\n",
    "  t2.property_type,\n",
    "  old_new,\n",
    "  duration,\n",
    "  locality,\n",
    "  ppd_category_type,\n",
    "  derived_year\n",
    "FROM\n",
    "  `ons-ids-data-prod.ingest_ida_ordnance_survey_private_outside_space.april_gb_private_outdoor_space_std` AS t1\n",
    "JOIN\n",
    "  `ons-ids-analysis-prod.demo_wip_notebook.lrpp_linked` AS t2\n",
    "ON\n",
    "  t1.address_entry_id_uprn = t2.address_entry_id_uprn\n",
    "  \n",
    "\"\"\")\n",
    "\n",
    "table_ref = 'ons-ids-analysis-prod.demo_wip_notebook.ospos_lrpp_linked'\n",
    "\n",
    "job_config = bigquery.QueryJobConfig(\n",
    "    destination= table_ref\n",
    ")\n",
    "\n",
    "job_config.write_disposition = \"WRITE_TRUNCATE\"\n",
    "\n",
    "query_job = client.query(\n",
    "    query,\n",
    "    location=\"europe-west2\",\n",
    "    job_config=job_config\n",
    ")  # API request - starts the query\n",
    "\n",
    "query_job.result()"
   ]
  },
  {
   "cell_type": "code",
   "execution_count": null,
   "id": "fcdc966c-f57d-4cae-a6fa-784434c1f1ca",
   "metadata": {},
   "outputs": [],
   "source": [
    "# joining OSPOS/LRPP linked data with EPC data\n",
    "# may need to exclude columns before the join:\n",
    "# EXCEPT (geography_entry_id_postcode, uprn_hashed, postcode_hashed, guid, property_type, address_entry_id_uprn)\n",
    "\n",
    "query = (\"\"\"\n",
    "\n",
    "SELECT\n",
    "  *\n",
    "FROM\n",
    "  `ons-ids-analysis-prod.demo_wip_notebook.ospos_lrpp_linked` t1\n",
    "JOIN\n",
    "  `ons-ids-analysis-prod.demo_wip_notebook.EPC_linked` t2\n",
    "ON\n",
    "  t1.address_entry_id_uprn = t2.address_entry_id_uprn;\n",
    "    \n",
    "\"\"\")\n",
    "\n",
    "table_ref = 'ons-ids-analysis-prod.demo_wip_notebook.ospos_lrpp_epc_linked'\n",
    "\n",
    "job_config = bigquery.QueryJobConfig(\n",
    "    destination= table_ref\n",
    ")\n",
    "\n",
    "query_job = client.query(\n",
    "    query,\n",
    "    location=\"europe-west2\",\n",
    "    job_config=job_config\n",
    ")  # API request - starts the query\n",
    "\n",
    "query_job.result()"
   ]
  },
  {
   "cell_type": "markdown",
   "id": "95b7277f-3a38-436b-a6e6-bd4ac8cdcf1f",
   "metadata": {},
   "source": [
    "## Non-matches and bias\n",
    "\n",
    "For cases where records did not match to an RDMF index, for example the address index, their `address_entry_id` will be null. This allows identification of the non-matching records"
   ]
  },
  {
   "cell_type": "code",
   "execution_count": null,
   "id": "f3a7fb09-f14d-44d0-a298-3f464bd46d55",
   "metadata": {},
   "outputs": [],
   "source": [
    "# joining georef and std LRPP tables\n",
    "query = (\"\"\"\n",
    "SELECT \n",
    "\n",
    " address_entry_id_uprn\n",
    "\n",
    "FROM \n",
    " `ons-ids-analysis-prod.demo_wip_notebook.lrpp_linked`\n",
    "\n",
    "\"\"\")\n",
    "\n",
    "query_job = client.query(\n",
    "    query,\n",
    "    location=\"europe-west2\",\n",
    ")  # API request - starts the query\n",
    "\n",
    "\n",
    "df = query_job.to_dataframe()\n"
   ]
  },
  {
   "cell_type": "code",
   "execution_count": 112,
   "id": "623de6ec-5660-43d1-831b-7ab2de891594",
   "metadata": {},
   "outputs": [
    {
     "name": "stdout",
     "output_type": "stream",
     "text": [
      "the match rate is: 99.98994303084024\n"
     ]
    }
   ],
   "source": [
    "unmatched  = len(df[df.address_entry_id_uprn.isnull() == True])\n",
    "matched  = len(df[df.address_entry_id_uprn.isnull() == False])\n",
    "\n",
    "print(\"the match rate is:\", ((matched-unmatched)/matched)*100)"
   ]
  },
  {
   "cell_type": "markdown",
   "id": "4e09e4c2-59bb-43e6-8f72-a76bb9cfb2cc",
   "metadata": {},
   "source": [
    "The analyst can then easily explore the characteristics of the non-linking data. For instance, exploring the trends in matches vs non-matches by region:"
   ]
  },
  {
   "cell_type": "code",
   "execution_count": 10,
   "id": "d29dcfbf-17e7-44cf-8b30-dbcf0fcbdd3e",
   "metadata": {},
   "outputs": [
    {
     "data": {
      "text/plain": [
       "26886828"
      ]
     },
     "execution_count": 10,
     "metadata": {},
     "output_type": "execute_result"
    }
   ],
   "source": [
    "# read in geography index lookup, join on geography_entry_region_code\n",
    "\n",
    "# hashed values - can aggregate on these hashed values to explore bias (i.e. same hashed uprn for same hh)\n",
    "\n",
    "# match rate by region"
   ]
  },
  {
   "cell_type": "code",
   "execution_count": null,
   "id": "265b2e80-5449-4788-8fe3-3cdb6d2c1643",
   "metadata": {},
   "outputs": [],
   "source": [
    "geography entry id, MSOA code and MSOA label"
   ]
  },
  {
   "cell_type": "code",
   "execution_count": 61,
   "id": "1e8347ac-87bf-4b49-ba6d-e9a0d90f781c",
   "metadata": {},
   "outputs": [],
   "source": [
    "# querying ospos lrpp linked data\n",
    "query = (\"\"\"\n",
    "SELECT \n",
    "\n",
    "ur2fold, ur3fold, ur6fold, ur8fold\n",
    "\n",
    "FROM `ons-ids-analysis-prod.demo_wip_notebook.ospos_lrpp_linked`\n",
    "    \n",
    "\"\"\")\n",
    "table_ref = 'ons-ids-analysis-prod.demo_wip_notebook.ospos_lrpp_linked'\n",
    "\n",
    "query_job = client.query(\n",
    "    query,\n",
    "    location=\"europe-west2\",\n",
    ")  # API request - starts the query\n",
    "\n",
    "df = query_job.to_dataframe()"
   ]
  },
  {
   "cell_type": "code",
   "execution_count": 62,
   "id": "5e2624df-4c87-4184-85a1-7b9498d03e58",
   "metadata": {},
   "outputs": [
    {
     "data": {
      "text/html": [
       "<div>\n",
       "<style scoped>\n",
       "    .dataframe tbody tr th:only-of-type {\n",
       "        vertical-align: middle;\n",
       "    }\n",
       "\n",
       "    .dataframe tbody tr th {\n",
       "        vertical-align: top;\n",
       "    }\n",
       "\n",
       "    .dataframe thead th {\n",
       "        text-align: right;\n",
       "    }\n",
       "</style>\n",
       "<table border=\"1\" class=\"dataframe\">\n",
       "  <thead>\n",
       "    <tr style=\"text-align: right;\">\n",
       "      <th></th>\n",
       "      <th>ur2fold</th>\n",
       "      <th>ur3fold</th>\n",
       "      <th>ur6fold</th>\n",
       "      <th>ur8fold</th>\n",
       "    </tr>\n",
       "  </thead>\n",
       "  <tbody>\n",
       "    <tr>\n",
       "      <th>155395</th>\n",
       "      <td>2</td>\n",
       "      <td>3</td>\n",
       "      <td>6</td>\n",
       "      <td>8</td>\n",
       "    </tr>\n",
       "    <tr>\n",
       "      <th>530201</th>\n",
       "      <td>2</td>\n",
       "      <td>3</td>\n",
       "      <td>6</td>\n",
       "      <td>8</td>\n",
       "    </tr>\n",
       "    <tr>\n",
       "      <th>624295</th>\n",
       "      <td>2</td>\n",
       "      <td>3</td>\n",
       "      <td>6</td>\n",
       "      <td>8</td>\n",
       "    </tr>\n",
       "    <tr>\n",
       "      <th>624389</th>\n",
       "      <td>2</td>\n",
       "      <td>2</td>\n",
       "      <td>5</td>\n",
       "      <td>6</td>\n",
       "    </tr>\n",
       "    <tr>\n",
       "      <th>784188</th>\n",
       "      <td>1</td>\n",
       "      <td>1</td>\n",
       "      <td>2</td>\n",
       "      <td>2</td>\n",
       "    </tr>\n",
       "    <tr>\n",
       "      <th>...</th>\n",
       "      <td>...</td>\n",
       "      <td>...</td>\n",
       "      <td>...</td>\n",
       "      <td>...</td>\n",
       "    </tr>\n",
       "    <tr>\n",
       "      <th>22318104</th>\n",
       "      <td>2</td>\n",
       "      <td>3</td>\n",
       "      <td>6</td>\n",
       "      <td>8</td>\n",
       "    </tr>\n",
       "    <tr>\n",
       "      <th>22434681</th>\n",
       "      <td>1</td>\n",
       "      <td>1</td>\n",
       "      <td>1</td>\n",
       "      <td>1</td>\n",
       "    </tr>\n",
       "    <tr>\n",
       "      <th>22445613</th>\n",
       "      <td>2</td>\n",
       "      <td>3</td>\n",
       "      <td>6</td>\n",
       "      <td>8</td>\n",
       "    </tr>\n",
       "    <tr>\n",
       "      <th>22908829</th>\n",
       "      <td>2</td>\n",
       "      <td>2</td>\n",
       "      <td>5</td>\n",
       "      <td>6</td>\n",
       "    </tr>\n",
       "    <tr>\n",
       "      <th>22930607</th>\n",
       "      <td>2</td>\n",
       "      <td>3</td>\n",
       "      <td>6</td>\n",
       "      <td>8</td>\n",
       "    </tr>\n",
       "  </tbody>\n",
       "</table>\n",
       "<p>168 rows × 4 columns</p>\n",
       "</div>"
      ],
      "text/plain": [
       "         ur2fold ur3fold ur6fold ur8fold\n",
       "155395         2       3       6       8\n",
       "530201         2       3       6       8\n",
       "624295         2       3       6       8\n",
       "624389         2       2       5       6\n",
       "784188         1       1       2       2\n",
       "...          ...     ...     ...     ...\n",
       "22318104       2       3       6       8\n",
       "22434681       1       1       1       1\n",
       "22445613       2       3       6       8\n",
       "22908829       2       2       5       6\n",
       "22930607       2       3       6       8\n",
       "\n",
       "[168 rows x 4 columns]"
      ]
     },
     "execution_count": 62,
     "metadata": {},
     "output_type": "execute_result"
    }
   ],
   "source": [
    "df[df.ur2fold != '']"
   ]
  },
  {
   "cell_type": "code",
   "execution_count": 59,
   "id": "b02cebac-60c6-4624-97cf-6fcac24d1fec",
   "metadata": {},
   "outputs": [
    {
     "data": {
      "text/html": [
       "<div>\n",
       "<style scoped>\n",
       "    .dataframe tbody tr th:only-of-type {\n",
       "        vertical-align: middle;\n",
       "    }\n",
       "\n",
       "    .dataframe tbody tr th {\n",
       "        vertical-align: top;\n",
       "    }\n",
       "\n",
       "    .dataframe thead th {\n",
       "        text-align: right;\n",
       "    }\n",
       "</style>\n",
       "<table border=\"1\" class=\"dataframe\">\n",
       "  <thead>\n",
       "    <tr style=\"text-align: right;\">\n",
       "      <th></th>\n",
       "      <th>lsoa_code_hashed</th>\n",
       "      <th>oa_code_hashed</th>\n",
       "      <th>lad_code_hashed</th>\n",
       "      <th>msoa_code_hashed</th>\n",
       "      <th>country_code_hashed</th>\n",
       "      <th>region_code_hashed</th>\n",
       "    </tr>\n",
       "  </thead>\n",
       "  <tbody>\n",
       "    <tr>\n",
       "      <th>0</th>\n",
       "      <td></td>\n",
       "      <td></td>\n",
       "      <td></td>\n",
       "      <td></td>\n",
       "      <td></td>\n",
       "      <td></td>\n",
       "    </tr>\n",
       "    <tr>\n",
       "      <th>1</th>\n",
       "      <td></td>\n",
       "      <td></td>\n",
       "      <td></td>\n",
       "      <td></td>\n",
       "      <td></td>\n",
       "      <td></td>\n",
       "    </tr>\n",
       "    <tr>\n",
       "      <th>2</th>\n",
       "      <td></td>\n",
       "      <td></td>\n",
       "      <td></td>\n",
       "      <td></td>\n",
       "      <td></td>\n",
       "      <td></td>\n",
       "    </tr>\n",
       "    <tr>\n",
       "      <th>3</th>\n",
       "      <td></td>\n",
       "      <td></td>\n",
       "      <td></td>\n",
       "      <td></td>\n",
       "      <td></td>\n",
       "      <td></td>\n",
       "    </tr>\n",
       "    <tr>\n",
       "      <th>4</th>\n",
       "      <td></td>\n",
       "      <td></td>\n",
       "      <td></td>\n",
       "      <td></td>\n",
       "      <td></td>\n",
       "      <td></td>\n",
       "    </tr>\n",
       "    <tr>\n",
       "      <th>...</th>\n",
       "      <td>...</td>\n",
       "      <td>...</td>\n",
       "      <td>...</td>\n",
       "      <td>...</td>\n",
       "      <td>...</td>\n",
       "      <td>...</td>\n",
       "    </tr>\n",
       "    <tr>\n",
       "      <th>25836155</th>\n",
       "      <td></td>\n",
       "      <td></td>\n",
       "      <td></td>\n",
       "      <td></td>\n",
       "      <td></td>\n",
       "      <td></td>\n",
       "    </tr>\n",
       "    <tr>\n",
       "      <th>25836156</th>\n",
       "      <td></td>\n",
       "      <td></td>\n",
       "      <td></td>\n",
       "      <td></td>\n",
       "      <td></td>\n",
       "      <td></td>\n",
       "    </tr>\n",
       "    <tr>\n",
       "      <th>25836157</th>\n",
       "      <td></td>\n",
       "      <td></td>\n",
       "      <td></td>\n",
       "      <td></td>\n",
       "      <td></td>\n",
       "      <td></td>\n",
       "    </tr>\n",
       "    <tr>\n",
       "      <th>25836158</th>\n",
       "      <td></td>\n",
       "      <td></td>\n",
       "      <td></td>\n",
       "      <td></td>\n",
       "      <td></td>\n",
       "      <td></td>\n",
       "    </tr>\n",
       "    <tr>\n",
       "      <th>25836159</th>\n",
       "      <td></td>\n",
       "      <td></td>\n",
       "      <td></td>\n",
       "      <td></td>\n",
       "      <td></td>\n",
       "      <td></td>\n",
       "    </tr>\n",
       "  </tbody>\n",
       "</table>\n",
       "<p>25835992 rows × 6 columns</p>\n",
       "</div>"
      ],
      "text/plain": [
       "         lsoa_code_hashed oa_code_hashed lad_code_hashed msoa_code_hashed  \\\n",
       "0                                                                           \n",
       "1                                                                           \n",
       "2                                                                           \n",
       "3                                                                           \n",
       "4                                                                           \n",
       "...                   ...            ...             ...              ...   \n",
       "25836155                                                                    \n",
       "25836156                                                                    \n",
       "25836157                                                                    \n",
       "25836158                                                                    \n",
       "25836159                                                                    \n",
       "\n",
       "         country_code_hashed region_code_hashed  \n",
       "0                                                \n",
       "1                                                \n",
       "2                                                \n",
       "3                                                \n",
       "4                                                \n",
       "...                      ...                ...  \n",
       "25836155                                         \n",
       "25836156                                         \n",
       "25836157                                         \n",
       "25836158                                         \n",
       "25836159                                         \n",
       "\n",
       "[25835992 rows x 6 columns]"
      ]
     },
     "execution_count": 59,
     "metadata": {},
     "output_type": "execute_result"
    }
   ],
   "source": [
    "df[df.lsoa_code_hashed == '']"
   ]
  },
  {
   "cell_type": "code",
   "execution_count": null,
   "id": "b1a9d981-0e3e-4f35-84b8-20e0a65b8866",
   "metadata": {},
   "outputs": [],
   "source": [
    "# exploring LRPP join\n",
    "query = (\"\"\"\n",
    "SELECT \n",
    "COUNT(*) as numRecords\n",
    "\n",
    "FROM `ingest_ida_land_registry_price_paid.prices_paid_georef` t1\n",
    "JOIN `ingest_ida_land_registry_price_paid.prices_paid_std` t2\n",
    "\n",
    "ON t1.id = t2.guid;\n",
    "\"\"\")\n",
    "\n",
    "query_job = client.query(\n",
    "    query,\n",
    "    location=\"europe-west2\",\n",
    ")  # API request - starts the query\n",
    "\n",
    "df  = query_job.to_dataframe()"
   ]
  },
  {
   "cell_type": "code",
   "execution_count": 30,
   "id": "3e737663-d61f-412d-89e7-4d0a57039236",
   "metadata": {},
   "outputs": [
    {
     "data": {
      "text/html": [
       "<div>\n",
       "<style scoped>\n",
       "    .dataframe tbody tr th:only-of-type {\n",
       "        vertical-align: middle;\n",
       "    }\n",
       "\n",
       "    .dataframe tbody tr th {\n",
       "        vertical-align: top;\n",
       "    }\n",
       "\n",
       "    .dataframe thead th {\n",
       "        text-align: right;\n",
       "    }\n",
       "</style>\n",
       "<table border=\"1\" class=\"dataframe\">\n",
       "  <thead>\n",
       "    <tr style=\"text-align: right;\">\n",
       "      <th></th>\n",
       "      <th>numRecords</th>\n",
       "    </tr>\n",
       "  </thead>\n",
       "  <tbody>\n",
       "    <tr>\n",
       "      <th>0</th>\n",
       "      <td>26889532</td>\n",
       "    </tr>\n",
       "  </tbody>\n",
       "</table>\n",
       "</div>"
      ],
      "text/plain": [
       "   numRecords\n",
       "0    26889532"
      ]
     },
     "execution_count": 30,
     "metadata": {},
     "output_type": "execute_result"
    }
   ],
   "source": [
    "# all 26889532 records join\n",
    "df"
   ]
  },
  {
   "cell_type": "code",
   "execution_count": 16,
   "id": "a18ff214-b8fe-49bc-a8c7-cb4816f050d4",
   "metadata": {},
   "outputs": [],
   "source": [
    "# exploring LRPP columns, querying where a false condition is true to just return column names\n",
    "query = (\"\"\"\n",
    "SELECT * \n",
    "\n",
    "FROM `ingest_ida_land_registry_price_paid.prices_paid_std`\n",
    "\n",
    "WHERE 1 = 0\n",
    "\"\"\")\n",
    "\n",
    "query_job = client.query(\n",
    "    query,\n",
    "    location=\"europe-west2\",\n",
    ")  # API request - starts the query\n",
    "\n",
    "df  = query_job.to_dataframe()\n"
   ]
  },
  {
   "cell_type": "code",
   "execution_count": 17,
   "id": "d84ad140-ffea-4476-adb7-21148e476749",
   "metadata": {},
   "outputs": [
    {
     "data": {
      "text/plain": [
       "['geography_entry_id_postcode',\n",
       " 'postcode_hashed',\n",
       " 'guid',\n",
       " 'transaction_uid',\n",
       " 'price',\n",
       " 'date_of_transfer',\n",
       " 'property_type',\n",
       " 'old_new',\n",
       " 'duration',\n",
       " 'locality',\n",
       " 'ppd_category_type',\n",
       " 'derived_year']"
      ]
     },
     "execution_count": 17,
     "metadata": {},
     "output_type": "execute_result"
    }
   ],
   "source": [
    "df.columns.tolist()"
   ]
  }
 ],
 "metadata": {
  "environment": {
   "kernel": "python3",
   "name": "common-cpu.m96",
   "type": "gcloud",
   "uri": "gcr.io/deeplearning-platform-release/base-cpu:m96"
  },
  "kernelspec": {
   "display_name": "Python 3",
   "language": "python",
   "name": "python3"
  },
  "language_info": {
   "codemirror_mode": {
    "name": "ipython",
    "version": 3
   },
   "file_extension": ".py",
   "mimetype": "text/x-python",
   "name": "python",
   "nbconvert_exporter": "python",
   "pygments_lexer": "ipython3",
   "version": "3.7.12"
  }
 },
 "nbformat": 4,
 "nbformat_minor": 5
}
