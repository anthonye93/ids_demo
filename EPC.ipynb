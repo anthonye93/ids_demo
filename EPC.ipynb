{
 "cells": [
  {
   "cell_type": "code",
   "execution_count": 74,
   "id": "e93cb66e-9542-4245-b12e-5ef48e77e0fe",
   "metadata": {},
   "outputs": [],
   "source": [
    "from google.cloud import bigquery\n",
    "import pandas as pd\n",
    "\n",
    "# initiating client for bigquery and setting location\n",
    "client = bigquery.Client(location=\"europe-west2\")"
   ]
  },
  {
   "cell_type": "code",
   "execution_count": 72,
   "id": "3c3060f6-d8a7-4f90-b5f0-589f44837b10",
   "metadata": {},
   "outputs": [],
   "source": [
    "# WHERE construction_age_band invalid, empty string and NO DATA! as null\n",
    "# remove ENGLAND AND WALES: \n",
    "# ENGLAND AND WALES: 2007 ONWARDS\n",
    "\n",
    "query = (\"\"\"\n",
    "SELECT\n",
    "\n",
    "    UPPER(lmk_key) AS lmk_key,\n",
    "    UPPER(guid) AS guid,\n",
    "    UPPER(current_energy_rating) AS current_energy_rating,\n",
    "    UPPER(potential_energy_rating) AS potential_energy_rating,\n",
    "    UPPER(construction_age_band) AS construction_age_band, \n",
    "\n",
    "    UPDATE construction_age_band\n",
    "    SET construction_age_band = NULL\n",
    "    WHERE construction_age_band = NO DATA!'\n",
    "\n",
    "\n",
    "FROM ons-ids-analysis-prod.demo_wip_notebook.epc_filtered1\n",
    "\n",
    "\n",
    "\"\"\")\n",
    "\n",
    "query_job = client.query(\n",
    "    query,\n",
    "    # Location must match that of the dataset(s) referenced in the query.\n",
    "    location=\"europe-west2\",\n",
    ")  # API request - starts the query"
   ]
  },
  {
   "cell_type": "code",
   "execution_count": 11,
   "id": "9d7b91d9-4d81-4986-9eb5-f2b3d9411aa1",
   "metadata": {},
   "outputs": [],
   "source": [
    "query = (\"\"\"\n",
    "UPDATE ons-ids-analysis-prod.demo_wip_notebook.epc_filtered1\n",
    "\n",
    "SET construction_age_band = NULL\n",
    "\n",
    "WHERE construction_age_band like '%NO DATA!%'\n",
    "\n",
    "\"\"\")\n",
    "\n",
    "query_job = client.query(\n",
    "    query,\n",
    "    # Location must match that of the dataset(s) referenced in the query.\n",
    "    location=\"europe-west2\",\n",
    ")\n",
    "\n",
    "#OR construction_age_band = ''\n",
    "#OR construction_age_band = 'INVALID!'"
   ]
  },
  {
   "cell_type": "code",
   "execution_count": null,
   "id": "c9a1b12b-1dee-4cb8-9931-eb943249c97f",
   "metadata": {},
   "outputs": [],
   "source": [
    "query = (\"\"\"\n",
    "SELECT\n",
    "    UPPER(lmk_key) AS lmk_key,\n",
    "    UPPER(guid) AS guid,\n",
    "    UPPER(current_energy_rating) AS current_energy_rating,\n",
    "    UPPER(potential_energy_rating) AS potential_energy_rating,\n",
    "    UPPER(construction_age_band) AS construction_age_band,\n",
    "    CASE\n",
    "    WHEN construction_age_band IS NOT NULL THEN construction_age_band\n",
    "    WHEN construction_age_band IN ('NO DATA!') THEN 'NULL'\n",
    "    ELSE 'no NULL'\n",
    "    END AS construction_age_band\n",
    "FROM ons-ids-analysis-prod.demo_wip_notebook.epc_filtered1\n",
    "\n",
    "\"\"\")\n",
    "\n",
    "query_job = client.query(\n",
    "    query,\n",
    "    # Location must match that of the dataset(s) referenced in the query.\n",
    "    location=\"europe-west2\",\n",
    ")  # API request - starts the query"
   ]
  },
  {
   "cell_type": "code",
   "execution_count": 95,
   "id": "8b88e27b-18f4-4821-9cef-d99f1d839c9c",
   "metadata": {},
   "outputs": [],
   "source": [
    "query = (\"\"\"\n",
    "SELECT\n",
    "    CASE\n",
    "    WHEN construction_age_band IS NOT NULL THEN UPPER(construction_age_band)\n",
    "    WHEN construction_age_band IN ('NO DATA!') THEN NULL\n",
    "    ELSE 'no NULL'\n",
    "    END AS construction_age_band,\n",
    "    UPPER(lmk_key) AS lmk_key,\n",
    "    UPPER(guid) AS guid,\n",
    "    UPPER(current_energy_rating) AS current_energy_rating,\n",
    "    UPPER(potential_energy_rating) AS potential_energy_rating,\n",
    "    UPPER(construction_age_band) AS construction_age_band,\n",
    "FROM ons-ids-analysis-prod.demo_wip_notebook.epc_filtered1\n",
    "\n",
    "\"\"\")\n",
    "\n",
    "query_job = client.query(\n",
    "    query,\n",
    "    # Location must match that of the dataset(s) referenced in the query.\n",
    "    location=\"europe-west2\",\n",
    ")  # API request - starts the query"
   ]
  },
  {
   "cell_type": "code",
   "execution_count": 96,
   "id": "5f557e65-a307-450e-9a0a-286771eaffde",
   "metadata": {},
   "outputs": [],
   "source": [
    "df = query_job.to_dataframe()"
   ]
  },
  {
   "cell_type": "code",
   "execution_count": 97,
   "id": "3224b79e-8cb6-41e6-8f4c-abc1b2560ce0",
   "metadata": {},
   "outputs": [
    {
     "data": {
      "text/html": [
       "<div>\n",
       "<style scoped>\n",
       "    .dataframe tbody tr th:only-of-type {\n",
       "        vertical-align: middle;\n",
       "    }\n",
       "\n",
       "    .dataframe tbody tr th {\n",
       "        vertical-align: top;\n",
       "    }\n",
       "\n",
       "    .dataframe thead th {\n",
       "        text-align: right;\n",
       "    }\n",
       "</style>\n",
       "<table border=\"1\" class=\"dataframe\">\n",
       "  <thead>\n",
       "    <tr style=\"text-align: right;\">\n",
       "      <th></th>\n",
       "      <th>construction_age_band</th>\n",
       "      <th>lmk_key</th>\n",
       "      <th>guid</th>\n",
       "      <th>current_energy_rating</th>\n",
       "      <th>potential_energy_rating</th>\n",
       "      <th>construction_age_band_1</th>\n",
       "    </tr>\n",
       "  </thead>\n",
       "  <tbody>\n",
       "    <tr>\n",
       "      <th>0</th>\n",
       "      <td>ENGLAND AND WALES: 1983-1990</td>\n",
       "      <td>366234242132019020812092919068206</td>\n",
       "      <td>0E119516-E71B-4A2E-BBD5-82DA70DEB885</td>\n",
       "      <td>D</td>\n",
       "      <td>A</td>\n",
       "      <td>ENGLAND AND WALES: 1983-1990</td>\n",
       "    </tr>\n",
       "    <tr>\n",
       "      <th>1</th>\n",
       "      <td>ENGLAND AND WALES: 1967-1975</td>\n",
       "      <td>1338890055412015071017035092050739</td>\n",
       "      <td>BAF05F2C-D657-46DF-A01E-388D736488EB</td>\n",
       "      <td>D</td>\n",
       "      <td>A</td>\n",
       "      <td>ENGLAND AND WALES: 1967-1975</td>\n",
       "    </tr>\n",
       "    <tr>\n",
       "      <th>2</th>\n",
       "      <td>ENGLAND AND WALES: 2003-2006</td>\n",
       "      <td>238847319142020020617141550819568</td>\n",
       "      <td>2D7D73A5-6B73-4F8D-AAE5-9D98B5EFD2B5</td>\n",
       "      <td>D</td>\n",
       "      <td>A</td>\n",
       "      <td>ENGLAND AND WALES: 2003-2006</td>\n",
       "    </tr>\n",
       "    <tr>\n",
       "      <th>3</th>\n",
       "      <td>ENGLAND AND WALES: BEFORE 1900</td>\n",
       "      <td>1671442189102018102516403366089538</td>\n",
       "      <td>1E184C87-72CC-4B25-97E2-26D949D5D578</td>\n",
       "      <td>D</td>\n",
       "      <td>A</td>\n",
       "      <td>ENGLAND AND WALES: BEFORE 1900</td>\n",
       "    </tr>\n",
       "    <tr>\n",
       "      <th>4</th>\n",
       "      <td>ENGLAND AND WALES: BEFORE 1900</td>\n",
       "      <td>62097539022018040711353104268918</td>\n",
       "      <td>9D64C0F9-8F2E-45EE-92D3-51347C8C3C1D</td>\n",
       "      <td>D</td>\n",
       "      <td>A</td>\n",
       "      <td>ENGLAND AND WALES: BEFORE 1900</td>\n",
       "    </tr>\n",
       "    <tr>\n",
       "      <th>...</th>\n",
       "      <td>...</td>\n",
       "      <td>...</td>\n",
       "      <td>...</td>\n",
       "      <td>...</td>\n",
       "      <td>...</td>\n",
       "      <td>...</td>\n",
       "    </tr>\n",
       "    <tr>\n",
       "      <th>850361</th>\n",
       "      <td>no NULL</td>\n",
       "      <td>1763401259242019110516391865710758</td>\n",
       "      <td>0B63B354-218A-499D-A689-EE3FD428F764</td>\n",
       "      <td>A</td>\n",
       "      <td>A</td>\n",
       "      <td>None</td>\n",
       "    </tr>\n",
       "    <tr>\n",
       "      <th>850362</th>\n",
       "      <td>no NULL</td>\n",
       "      <td>1110014219602014031913465228149418</td>\n",
       "      <td>78AFA655-5BA6-45F3-B665-58286E201E8B</td>\n",
       "      <td>A</td>\n",
       "      <td>A</td>\n",
       "      <td>None</td>\n",
       "    </tr>\n",
       "    <tr>\n",
       "      <th>850363</th>\n",
       "      <td>no NULL</td>\n",
       "      <td>1459927049022016070811562925188506</td>\n",
       "      <td>E11B40D7-CF5E-4540-8253-1F3A8C7C4E31</td>\n",
       "      <td>A</td>\n",
       "      <td>A</td>\n",
       "      <td>None</td>\n",
       "    </tr>\n",
       "    <tr>\n",
       "      <th>850364</th>\n",
       "      <td>ENGLAND AND WALES: 2007 ONWARDS</td>\n",
       "      <td>1242661589222014112817275990488614</td>\n",
       "      <td>B86E5330-06A4-4129-9F71-C51F15DEAD5A</td>\n",
       "      <td>A</td>\n",
       "      <td>A</td>\n",
       "      <td>ENGLAND AND WALES: 2007 ONWARDS</td>\n",
       "    </tr>\n",
       "    <tr>\n",
       "      <th>850365</th>\n",
       "      <td>ENGLAND AND WALES: 1950-1966</td>\n",
       "      <td>792684249722012062709460068608862</td>\n",
       "      <td>DCEB32E9-92BF-43A6-97FC-5C65C425FD2F</td>\n",
       "      <td>A</td>\n",
       "      <td>A</td>\n",
       "      <td>ENGLAND AND WALES: 1950-1966</td>\n",
       "    </tr>\n",
       "  </tbody>\n",
       "</table>\n",
       "<p>850366 rows × 6 columns</p>\n",
       "</div>"
      ],
      "text/plain": [
       "                  construction_age_band                             lmk_key  \\\n",
       "0          ENGLAND AND WALES: 1983-1990   366234242132019020812092919068206   \n",
       "1          ENGLAND AND WALES: 1967-1975  1338890055412015071017035092050739   \n",
       "2          ENGLAND AND WALES: 2003-2006   238847319142020020617141550819568   \n",
       "3        ENGLAND AND WALES: BEFORE 1900  1671442189102018102516403366089538   \n",
       "4        ENGLAND AND WALES: BEFORE 1900    62097539022018040711353104268918   \n",
       "...                                 ...                                 ...   \n",
       "850361                          no NULL  1763401259242019110516391865710758   \n",
       "850362                          no NULL  1110014219602014031913465228149418   \n",
       "850363                          no NULL  1459927049022016070811562925188506   \n",
       "850364  ENGLAND AND WALES: 2007 ONWARDS  1242661589222014112817275990488614   \n",
       "850365     ENGLAND AND WALES: 1950-1966   792684249722012062709460068608862   \n",
       "\n",
       "                                        guid current_energy_rating  \\\n",
       "0       0E119516-E71B-4A2E-BBD5-82DA70DEB885                     D   \n",
       "1       BAF05F2C-D657-46DF-A01E-388D736488EB                     D   \n",
       "2       2D7D73A5-6B73-4F8D-AAE5-9D98B5EFD2B5                     D   \n",
       "3       1E184C87-72CC-4B25-97E2-26D949D5D578                     D   \n",
       "4       9D64C0F9-8F2E-45EE-92D3-51347C8C3C1D                     D   \n",
       "...                                      ...                   ...   \n",
       "850361  0B63B354-218A-499D-A689-EE3FD428F764                     A   \n",
       "850362  78AFA655-5BA6-45F3-B665-58286E201E8B                     A   \n",
       "850363  E11B40D7-CF5E-4540-8253-1F3A8C7C4E31                     A   \n",
       "850364  B86E5330-06A4-4129-9F71-C51F15DEAD5A                     A   \n",
       "850365  DCEB32E9-92BF-43A6-97FC-5C65C425FD2F                     A   \n",
       "\n",
       "       potential_energy_rating          construction_age_band_1  \n",
       "0                            A     ENGLAND AND WALES: 1983-1990  \n",
       "1                            A     ENGLAND AND WALES: 1967-1975  \n",
       "2                            A     ENGLAND AND WALES: 2003-2006  \n",
       "3                            A   ENGLAND AND WALES: BEFORE 1900  \n",
       "4                            A   ENGLAND AND WALES: BEFORE 1900  \n",
       "...                        ...                              ...  \n",
       "850361                       A                             None  \n",
       "850362                       A                             None  \n",
       "850363                       A                             None  \n",
       "850364                       A  ENGLAND AND WALES: 2007 ONWARDS  \n",
       "850365                       A     ENGLAND AND WALES: 1950-1966  \n",
       "\n",
       "[850366 rows x 6 columns]"
      ]
     },
     "execution_count": 97,
     "metadata": {},
     "output_type": "execute_result"
    }
   ],
   "source": [
    "df"
   ]
  },
  {
   "cell_type": "code",
   "execution_count": 100,
   "id": "8bb3967e-350f-4a7d-bd2d-a2c2b30fd3a7",
   "metadata": {},
   "outputs": [
    {
     "data": {
      "text/html": [
       "<div>\n",
       "<style scoped>\n",
       "    .dataframe tbody tr th:only-of-type {\n",
       "        vertical-align: middle;\n",
       "    }\n",
       "\n",
       "    .dataframe tbody tr th {\n",
       "        vertical-align: top;\n",
       "    }\n",
       "\n",
       "    .dataframe thead th {\n",
       "        text-align: right;\n",
       "    }\n",
       "</style>\n",
       "<table border=\"1\" class=\"dataframe\">\n",
       "  <thead>\n",
       "    <tr style=\"text-align: right;\">\n",
       "      <th></th>\n",
       "      <th>construction_age_band</th>\n",
       "      <th>lmk_key</th>\n",
       "      <th>guid</th>\n",
       "      <th>current_energy_rating</th>\n",
       "      <th>potential_energy_rating</th>\n",
       "      <th>construction_age_band_1</th>\n",
       "    </tr>\n",
       "  </thead>\n",
       "  <tbody>\n",
       "  </tbody>\n",
       "</table>\n",
       "</div>"
      ],
      "text/plain": [
       "Empty DataFrame\n",
       "Columns: [construction_age_band, lmk_key, guid, current_energy_rating, potential_energy_rating, construction_age_band_1]\n",
       "Index: []"
      ]
     },
     "execution_count": 100,
     "metadata": {},
     "output_type": "execute_result"
    }
   ],
   "source": [
    "df[df['construction_age_band'].isnull() == True]"
   ]
  },
  {
   "cell_type": "code",
   "execution_count": 64,
   "id": "0be1f512-80d7-43d2-a2ce-ce8b9af800fe",
   "metadata": {},
   "outputs": [
    {
     "data": {
      "text/html": [
       "<div>\n",
       "<style scoped>\n",
       "    .dataframe tbody tr th:only-of-type {\n",
       "        vertical-align: middle;\n",
       "    }\n",
       "\n",
       "    .dataframe tbody tr th {\n",
       "        vertical-align: top;\n",
       "    }\n",
       "\n",
       "    .dataframe thead th {\n",
       "        text-align: right;\n",
       "    }\n",
       "</style>\n",
       "<table border=\"1\" class=\"dataframe\">\n",
       "  <thead>\n",
       "    <tr style=\"text-align: right;\">\n",
       "      <th></th>\n",
       "      <th>guid</th>\n",
       "      <th>address</th>\n",
       "      <th>current_energy_rating</th>\n",
       "      <th>potential_energy_rating</th>\n",
       "      <th>construction_age_band</th>\n",
       "    </tr>\n",
       "  </thead>\n",
       "  <tbody>\n",
       "  </tbody>\n",
       "</table>\n",
       "</div>"
      ],
      "text/plain": [
       "Empty DataFrame\n",
       "Columns: [guid, address, current_energy_rating, potential_energy_rating, construction_age_band]\n",
       "Index: []"
      ]
     },
     "execution_count": 64,
     "metadata": {},
     "output_type": "execute_result"
    }
   ],
   "source": [
    "df[df['guid'].duplicated()==True]"
   ]
  },
  {
   "cell_type": "code",
   "execution_count": null,
   "id": "55a23497-a9ad-435a-a98c-50c2eb8da7f9",
   "metadata": {},
   "outputs": [],
   "source": [
    "# checked for value counts\n",
    "# checked for null values"
   ]
  },
  {
   "cell_type": "code",
   "execution_count": 31,
   "id": "3a2fde4a-d627-4441-88a6-21583c7937e1",
   "metadata": {},
   "outputs": [],
   "source": [
    " # Construct a reference to the wip notebook dataset, within the ons-ids-analysis-prod project\n",
    "    \n",
    "PROJECT_ID = 'ons-ids-analysis-prod'\n",
    "dataset_ref = client.dataset('demo_wip_notebook', project=PROJECT_ID)"
   ]
  },
  {
   "cell_type": "code",
   "execution_count": 32,
   "id": "315d07e0-16de-4dba-b098-f0c16a484200",
   "metadata": {},
   "outputs": [],
   "source": [
    "# Make an API request to fetch the dataset\n",
    "dataset = client.get_dataset(dataset_ref)"
   ]
  },
  {
   "cell_type": "code",
   "execution_count": 34,
   "id": "286ee560-66dc-47e6-bf89-af2927ee293c",
   "metadata": {},
   "outputs": [
    {
     "name": "stdout",
     "output_type": "stream",
     "text": [
      "Query results loaded to table /projects/ons-ids-analysis-prod/datasets/demo_wip_notebook/tables/epc_upper\n"
     ]
    }
   ],
   "source": [
    "sql = \"\"\"\n",
    "SELECT *\n",
    "WHERE\n",
    "\n",
    "FROM ons-ids-analysis-prod.demo_wip_notebook.epc_filtered1\n",
    "\"\"\"\n",
    "\n",
    "table_ref = dataset.table(\"epc_upper\")\n",
    "job_config = bigquery.QueryJobConfig(\n",
    "    destination=table_ref\n",
    ")\n",
    "\n",
    "# Start the query, passing in the extra configuration.\n",
    "query_job = client.query(sql, location=\"europe-west2\", job_config=job_config)\n",
    "\n",
    "query_job.result()  # Waits for the query to finish\n",
    "print(\"Query results loaded to table {}\".format(table_ref.path))"
   ]
  },
  {
   "cell_type": "code",
   "execution_count": 10,
   "id": "0f8970eb-fa2f-43f8-ab5d-d78d0a31ee4e",
   "metadata": {},
   "outputs": [],
   "source": [
    "# set data types\n",
    "# ensure energy rating e.g. is a capital letter between A-E\n",
    "# upper case variables\n",
    "# strip leading/trailing spaces\n",
    "# strip non-alphanumeric characters"
   ]
  },
  {
   "cell_type": "code",
   "execution_count": 42,
   "id": "ed0a0c9f-7f45-4351-af0d-89da634f3bdc",
   "metadata": {},
   "outputs": [
    {
     "data": {
      "text/html": [
       "<div>\n",
       "<style scoped>\n",
       "    .dataframe tbody tr th:only-of-type {\n",
       "        vertical-align: middle;\n",
       "    }\n",
       "\n",
       "    .dataframe tbody tr th {\n",
       "        vertical-align: top;\n",
       "    }\n",
       "\n",
       "    .dataframe thead th {\n",
       "        text-align: right;\n",
       "    }\n",
       "</style>\n",
       "<table border=\"1\" class=\"dataframe\">\n",
       "  <thead>\n",
       "    <tr style=\"text-align: right;\">\n",
       "      <th></th>\n",
       "      <th>guid</th>\n",
       "    </tr>\n",
       "  </thead>\n",
       "  <tbody>\n",
       "    <tr>\n",
       "      <th>0</th>\n",
       "      <td>7B4EF54B-BF70-408E-9DC3-F038988FDD5B</td>\n",
       "    </tr>\n",
       "    <tr>\n",
       "      <th>1</th>\n",
       "      <td>535B2592-1AB0-4518-9B12-15C4DF55D5D9</td>\n",
       "    </tr>\n",
       "    <tr>\n",
       "      <th>2</th>\n",
       "      <td>E06DE197-D667-4BA0-A5A1-9D471CB8318F</td>\n",
       "    </tr>\n",
       "    <tr>\n",
       "      <th>3</th>\n",
       "      <td>EF9B99CA-524A-41D1-B853-BD587EE9EC86</td>\n",
       "    </tr>\n",
       "    <tr>\n",
       "      <th>4</th>\n",
       "      <td>B09CEC47-7C96-4447-B6DE-E443594CEBD3</td>\n",
       "    </tr>\n",
       "    <tr>\n",
       "      <th>...</th>\n",
       "      <td>...</td>\n",
       "    </tr>\n",
       "    <tr>\n",
       "      <th>850361</th>\n",
       "      <td>B1C41541-7E7D-4D62-998D-00E49084D3CD</td>\n",
       "    </tr>\n",
       "    <tr>\n",
       "      <th>850362</th>\n",
       "      <td>0AE5E4C2-190B-467D-91B2-780420B76F8C</td>\n",
       "    </tr>\n",
       "    <tr>\n",
       "      <th>850363</th>\n",
       "      <td>FC4C8C2B-D344-490A-9414-A4E5E0CF62E9</td>\n",
       "    </tr>\n",
       "    <tr>\n",
       "      <th>850364</th>\n",
       "      <td>2B74A722-1112-4DCF-A7C4-D6A50BB1DAB2</td>\n",
       "    </tr>\n",
       "    <tr>\n",
       "      <th>850365</th>\n",
       "      <td>B3A16DC6-F846-4271-814F-A208A75A898E</td>\n",
       "    </tr>\n",
       "  </tbody>\n",
       "</table>\n",
       "<p>850366 rows × 1 columns</p>\n",
       "</div>"
      ],
      "text/plain": [
       "                                        guid\n",
       "0       7B4EF54B-BF70-408E-9DC3-F038988FDD5B\n",
       "1       535B2592-1AB0-4518-9B12-15C4DF55D5D9\n",
       "2       E06DE197-D667-4BA0-A5A1-9D471CB8318F\n",
       "3       EF9B99CA-524A-41D1-B853-BD587EE9EC86\n",
       "4       B09CEC47-7C96-4447-B6DE-E443594CEBD3\n",
       "...                                      ...\n",
       "850361  B1C41541-7E7D-4D62-998D-00E49084D3CD\n",
       "850362  0AE5E4C2-190B-467D-91B2-780420B76F8C\n",
       "850363  FC4C8C2B-D344-490A-9414-A4E5E0CF62E9\n",
       "850364  2B74A722-1112-4DCF-A7C4-D6A50BB1DAB2\n",
       "850365  B3A16DC6-F846-4271-814F-A208A75A898E\n",
       "\n",
       "[850366 rows x 1 columns]"
      ]
     },
     "execution_count": 42,
     "metadata": {},
     "output_type": "execute_result"
    }
   ],
   "source": [
    "df"
   ]
  },
  {
   "cell_type": "code",
   "execution_count": 5,
   "id": "989e95ed-44b1-4c71-ba5f-3cf6150ccf05",
   "metadata": {},
   "outputs": [
    {
     "data": {
      "text/plain": [
       "\"\\nHowever, when we get to actually use the IDS properly, we should do this sparingly.\\n\\nBigQuery does lots of magic, efficiency-saving stuff in the background that makes doing\\nyour data processing in BigQuery, where possible, a much better proposition than doing so\\non a spark or pandas dataframe.\\n\\nThis probably means we're going to have to get really good at SQL.\\n\""
      ]
     },
     "execution_count": 5,
     "metadata": {},
     "output_type": "execute_result"
    }
   ],
   "source": [
    "# we can then pass this to a pandas dataframe\n",
    "df = query_job.to_dataframe()\n",
    "'''\n",
    "However, when we get to actually use the IDS properly, we should do this sparingly.\n",
    "\n",
    "BigQuery does lots of magic, efficiency-saving stuff in the background that makes doing\n",
    "your data processing in BigQuery, where possible, a much better proposition than doing so\n",
    "on a spark or pandas dataframe.\n",
    "\n",
    "This probably means we're going to have to get really good at SQL.\n",
    "'''"
   ]
  },
  {
   "cell_type": "code",
   "execution_count": 9,
   "id": "f97ab947-3c58-4e42-b3c6-8a3fca15b4db",
   "metadata": {},
   "outputs": [
    {
     "data": {
      "text/plain": [
       "BRISTOL                 12553\n",
       "MANCHESTER              11829\n",
       "LEICESTER               11492\n",
       "NOTTINGHAM              11245\n",
       "LIVERPOOL               10723\n",
       "                        ...  \n",
       "RICKINGHALL INFERIOR        1\n",
       "CWMGORS                     1\n",
       "KEWSTOKE                    1\n",
       "PERTENHALL                  1\n",
       "Brixham                     1\n",
       "Name: posttown, Length: 5576, dtype: int64"
      ]
     },
     "execution_count": 9,
     "metadata": {},
     "output_type": "execute_result"
    }
   ],
   "source": [
    "df['posttown'].value_counts()"
   ]
  },
  {
   "cell_type": "code",
   "execution_count": null,
   "id": "45b0648a-2d94-465a-b0d0-829688bf0b9c",
   "metadata": {},
   "outputs": [],
   "source": [
    "# create tiny geography index\n",
    "GI = pd.DataFrame({'local_authority': [],\n",
    "                   'geography_entry_id': []\n",
    "                  })\n",
    "\n"
   ]
  },
  {
   "cell_type": "code",
   "execution_count": null,
   "id": "b13c9c84-9a08-4488-bb79-cabdbe648bf5",
   "metadata": {},
   "outputs": [],
   "source": [
    "# join to geography index\n",
    "df = pd.merge(GI, on = 'geography_entry_id', how = 'inner')"
   ]
  },
  {
   "cell_type": "code",
   "execution_count": null,
   "id": "f39d2f9a-81d9-45bf-aff5-5f38f1dd4b66",
   "metadata": {},
   "outputs": [],
   "source": [
    "# analysis\n",
    "\n",
    "#"
   ]
  }
 ],
 "metadata": {
  "environment": {
   "kernel": "python3",
   "name": "common-cpu.m96",
   "type": "gcloud",
   "uri": "gcr.io/deeplearning-platform-release/base-cpu:m96"
  },
  "kernelspec": {
   "display_name": "Python 3",
   "language": "python",
   "name": "python3"
  },
  "language_info": {
   "codemirror_mode": {
    "name": "ipython",
    "version": 3
   },
   "file_extension": ".py",
   "mimetype": "text/x-python",
   "name": "python",
   "nbconvert_exporter": "python",
   "pygments_lexer": "ipython3",
   "version": "3.7.12"
  }
 },
 "nbformat": 4,
 "nbformat_minor": 5
}
