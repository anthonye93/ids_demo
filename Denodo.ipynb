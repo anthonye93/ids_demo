{
 "cells": [
  {
   "cell_type": "code",
   "execution_count": null,
   "id": "acdc6640-8b3f-4efc-8a1f-9f32b819bf05",
   "metadata": {},
   "outputs": [],
   "source": [
    "import pyspark"
   ]
  },
  {
   "cell_type": "code",
   "execution_count": null,
   "id": "34a11ab0-0188-46d1-a06c-f01a7083b899",
   "metadata": {},
   "outputs": [],
   "source": [
    "from pyspark.sql import SparkSession"
   ]
  },
  {
   "cell_type": "code",
   "execution_count": null,
   "id": "6769dfe3-6c8f-405c-9caa-11d3ddb8482e",
   "metadata": {},
   "outputs": [],
   "source": [
    "pip install ipywidgets"
   ]
  },
  {
   "cell_type": "code",
   "execution_count": null,
   "id": "eeda0bec-cc64-414c-9e4b-7b8dc927a14d",
   "metadata": {},
   "outputs": [],
   "source": [
    "import seaborn as sns\n",
    "import pandas as pd\n",
    "import pyspark.sql.functions as F\n",
    "from matplotlib import pyplot as plt\n",
    "from ipywidgets import widgets, interactive"
   ]
  },
  {
   "cell_type": "code",
   "execution_count": null,
   "id": "00b076e6-37a4-47f8-a003-e3e37a39f70d",
   "metadata": {},
   "outputs": [],
   "source": [
    "spark = SparkSession.builder.master(\"local[1]\") \\\n",
    ".appName('EPC') \\\n",
    ".getOrCreate()"
   ]
  },
  {
   "cell_type": "code",
   "execution_count": null,
   "id": "62dd3cc9-4657-4a63-85c1-f8a3959d4efe",
   "metadata": {},
   "outputs": [],
   "source": [
    "from idpData import idpDataInit\n",
    "\n",
    "idpDataInit()"
   ]
  },
  {
   "cell_type": "code",
   "execution_count": null,
   "id": "4581195a-a414-4c26-a086-ebc925ead11e",
   "metadata": {},
   "outputs": [],
   "source": [
    "from idpData import idpDataConnect\n",
    "\n",
    "conn = idpDataConnect(\"madalina.iova\",\"ids\")"
   ]
  },
  {
   "cell_type": "code",
   "execution_count": null,
   "id": "ab365039-ed3b-4778-b72d-2e860136143f",
   "metadata": {},
   "outputs": [],
   "source": [
    "from idpData import idpDataQuery\n",
    "\n",
    "df1 = idpDataQuery(sql=\"SELECT \\\"building_reference_number\\\", \\\"walls_description\\\", \\\"walls_energy_eff\\\", \\\"roof_description\\\", \\\n",
    "\\\"roof_energy_eff\\\", \\\"current_energy_rating\\\", \\\"current_energy_efficiency\\\", \\\"built_form\\\", \\\n",
    "\\\"local_authority_label\\\", \\\"property_type\\\", \\\"construction_age_band\\\" \\\n",
    "FROM bv_epc\",conn=conn)\n",
    "\n",
    "df1"
   ]
  },
  {
   "cell_type": "code",
   "execution_count": null,
   "id": "fc85a633-c856-4518-aaf4-fc20bc14b6fb",
   "metadata": {},
   "outputs": [],
   "source": [
    "epc.show()"
   ]
  },
  {
   "cell_type": "code",
   "execution_count": null,
   "id": "5a015258-c381-4f26-a2b4-3674a8acf278",
   "metadata": {},
   "outputs": [],
   "source": [
    "epc.columns"
   ]
  }
 ],
 "metadata": {
  "environment": {
   "kernel": "python3",
   "name": "common-cpu.m96",
   "type": "gcloud",
   "uri": "gcr.io/deeplearning-platform-release/base-cpu:m96"
  },
  "kernelspec": {
   "display_name": "Python 3",
   "language": "python",
   "name": "python3"
  },
  "language_info": {
   "codemirror_mode": {
    "name": "ipython",
    "version": 3
   },
   "file_extension": ".py",
   "mimetype": "text/x-python",
   "name": "python",
   "nbconvert_exporter": "python",
   "pygments_lexer": "ipython3",
   "version": "3.7.12"
  }
 },
 "nbformat": 4,
 "nbformat_minor": 5
}
