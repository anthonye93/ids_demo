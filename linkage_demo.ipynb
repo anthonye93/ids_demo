{
 "cells": [
  {
   "cell_type": "markdown",
   "id": "05bf6c63-17d7-411d-ac15-47b698e6f573",
   "metadata": {},
   "source": [
    "# IDS Integrated Data Asset (IDA) Linkage demo\n",
    "\n",
    "This script is broadly intended to demonstrate how easily RDMF indexed IDAs can be linked and thus prepared for analysts to use."
   ]
  },
  {
   "cell_type": "code",
   "execution_count": 203,
   "id": "fd23e2f3-c59f-46c5-acd1-f5afbd774424",
   "metadata": {},
   "outputs": [],
   "source": [
    "# import needed packages (not many!)\n",
    "from google.cloud import bigquery\n",
    "import pandas as pd"
   ]
  },
  {
   "cell_type": "code",
   "execution_count": 204,
   "id": "0d155d22-e798-477a-a522-cc5e3eb9f649",
   "metadata": {},
   "outputs": [],
   "source": [
    "# initiate client for bigquery\n",
    "client = bigquery.Client(location=\"europe-west2\")"
   ]
  },
  {
   "cell_type": "markdown",
   "id": "6c9eda21-9a44-4a79-ac22-53bf6cbcb54f",
   "metadata": {},
   "source": [
    "## Joining std and georef files\n",
    "First, we need to link together the `std` and `georef` versions of the LRPP data asset, so that we have all of the data's attributes, along with it's address information that will link back to the Address Index. These each have `guid` columns this can be done with.\n",
    "\n",
    "First, let's do this for the Land Registry Price Paid (LRPP) data, which will give us house sale price information:"
   ]
  },
  {
   "cell_type": "code",
   "execution_count": 47,
   "id": "864fd225-ba1d-492f-af10-109a54840e71",
   "metadata": {},
   "outputs": [
    {
     "data": {
      "text/plain": [
       "<google.cloud.bigquery.table.RowIterator at 0x7fec26702b90>"
      ]
     },
     "execution_count": 47,
     "metadata": {},
     "output_type": "execute_result"
    }
   ],
   "source": [
    "# joining georef and std LRPP tables\n",
    "query = (\"\"\"\n",
    "\n",
    "SELECT\n",
    "  *\n",
    "FROM\n",
    "  `ingest_ida_land_registry_price_paid.prices_paid_georef` t1\n",
    "JOIN\n",
    "  `ingest_ida_land_registry_price_paid.prices_paid_std` t2\n",
    "ON\n",
    "  t1.id = t2.guid\n",
    "\n",
    "\"\"\")\n",
    "table_ref = 'ons-ids-analysis-prod.demo_wip_notebook.lrpp_linked'\n",
    "\n",
    "job_config = bigquery.QueryJobConfig(\n",
    "    destination= table_ref\n",
    ")\n",
    "\n",
    "query_job = client.query(\n",
    "    query,\n",
    "    location=\"europe-west2\",\n",
    "    job_config=job_config\n",
    ")\n",
    "\n",
    "query_job.result()"
   ]
  },
  {
   "cell_type": "markdown",
   "id": "17e5627d-c0a2-4a26-a3f9-c59711ccadda",
   "metadata": {},
   "source": [
    "## Linking the EPC, LRPP and OSPOS data\n",
    "Next, and this is the bit where the Integrated Data Asset version of these datasets comes in handy, we can link all of these sources together on their `address_entry_id` variables. This is the lookup to the RDMF, specifically the address index, and is a unique identifier in this case."
   ]
  },
  {
   "cell_type": "code",
   "execution_count": 103,
   "id": "81e192d7-5fcd-4d5d-8011-8e5e02623494",
   "metadata": {},
   "outputs": [
    {
     "data": {
      "text/plain": [
       "<google.cloud.bigquery.table.RowIterator at 0x7f5c033f0910>"
      ]
     },
     "execution_count": 103,
     "metadata": {},
     "output_type": "execute_result"
    }
   ],
   "source": [
    "# joining OSPOS and (newly joined) LRPP tables\n",
    "query = (\"\"\"\n",
    "\n",
    "SELECT\n",
    "  geography_entry_id_lsoa_code,\n",
    "  geography_entry_id_oa_code,\n",
    "  geography_entry_id_lad_code,\n",
    "  geography_entry_id_msoa_code,\n",
    "  geography_entry_id_country_code,\n",
    "  geography_entry_id_region_code,\n",
    "  lsoa_code_hashed,\n",
    "  oa_code_hashed,\n",
    "  lad_code_hashed,\n",
    "  msoa_code_hashed,\n",
    "  country_code_hashed,\n",
    "  region_code_hashed,\n",
    "  class,\n",
    "  voa_ct_record,\n",
    "  ruc_code,\n",
    "  ruc,\n",
    "  ur2fold,\n",
    "  ur3fold,\n",
    "  ur6fold,\n",
    "  ur8fold,\n",
    "  building_flat_count,\n",
    "  private_outdoor_space,\n",
    "  private_outdoor_space_area,\n",
    "  t1.address_entry_id_uprn,\n",
    "  t2.address_entry_id_uprn AS t2_address_entry_id_uprn,\n",
    "  t2.id,\n",
    "  apiversion,\n",
    "  confidencescore,\n",
    "  epoch,\n",
    "  underlyingscore,\n",
    "  t2.geography_entry_id_postcode,\n",
    "  t2.postcode_hashed,\n",
    "  t2.guid,\n",
    "  t2.transaction_uid,\n",
    "  price,\n",
    "  date_of_transfer,\n",
    "  t2.property_type,\n",
    "  old_new,\n",
    "  duration,\n",
    "  locality,\n",
    "  ppd_category_type,\n",
    "  derived_year\n",
    "FROM\n",
    "  `ons-ids-data-prod.ingest_ida_ordnance_survey_private_outside_space.april_gb_private_outdoor_space_std` AS t1\n",
    "JOIN\n",
    "  `ons-ids-analysis-prod.demo_wip_notebook.lrpp_linked` AS t2\n",
    "ON\n",
    "  t1.address_entry_id_uprn = t2.address_entry_id_uprn\n",
    "JOIN\n",
    "  `ons-ids-data-prod.ingest_ida_epc.all_domestic_certificates_202203_std` AS t3\n",
    "ON\n",
    "  t3.address_entry_id_uprn = t2.address_entry_id_uprn\n",
    "  \n",
    "\"\"\")\n",
    "\n",
    "table_ref = 'ons-ids-analysis-prod.demo_wip_notebook.ospos_lrpp_linked'\n",
    "\n",
    "job_config = bigquery.QueryJobConfig(\n",
    "    destination= table_ref\n",
    ")\n",
    "\n",
    "job_config.write_disposition = \"WRITE_TRUNCATE\"\n",
    "\n",
    "query_job = client.query(\n",
    "    query,\n",
    "    location=\"europe-west2\",\n",
    "    job_config=job_config\n",
    ")\n",
    "\n",
    "query_job.result()"
   ]
  },
  {
   "cell_type": "markdown",
   "id": "95b7277f-3a38-436b-a6e6-bd4ac8cdcf1f",
   "metadata": {},
   "source": [
    "## Non-matches and bias"
   ]
  },
  {
   "cell_type": "markdown",
   "id": "a5162f26-ec49-4cbe-b7af-46e15a34f5a5",
   "metadata": {},
   "source": [
    "For cases where records did not match to an RDMF index, for example the Address Index, their `address_entry_id` will be null. This allows easy identification of the non-matching records.\n",
    "\n",
    "Let's explore this for our OSPOS (Private Outside Space) data:"
   ]
  },
  {
   "cell_type": "code",
   "execution_count": 358,
   "id": "c229e9a9-df36-43a5-b776-3a4e8680a1bd",
   "metadata": {},
   "outputs": [],
   "source": [
    "# read in OSPOS for region lookup to ospos non-links\n",
    "query = (\"\"\"\n",
    "SELECT \n",
    "\n",
    " address_entry_id_uprn,\n",
    " geography_entry_id_region_code\n",
    "FROM\n",
    "  `ons-ids-data-prod.ingest_ida_ordnance_survey_private_outside_space.april_gb_private_outdoor_space_std`\n",
    "\"\"\")\n",
    "\n",
    "query_job = client.query(\n",
    "    query,\n",
    "    location=\"europe-west2\",\n",
    ")  # API request - starts the query\n",
    "\n",
    "ospos = query_job.to_dataframe()"
   ]
  },
  {
   "cell_type": "code",
   "execution_count": 359,
   "id": "ed770757-df35-4811-a9be-9d44285eb1a5",
   "metadata": {},
   "outputs": [],
   "source": [
    "# read in geography index lookup to obtain geographic data for bias analysis\n",
    "query = (\"\"\"\n",
    "SELECT \n",
    " *\n",
    "FROM\n",
    "  `ons-ids-analysis-prod.demo_wip_notebook.geography_index_lookup`\n",
    "\"\"\")\n",
    "\n",
    "query_job = client.query(\n",
    "    query,\n",
    "    location=\"europe-west2\",\n",
    ")  # API request - starts the query\n",
    "\n",
    "gi = query_job.to_dataframe()"
   ]
  },
  {
   "cell_type": "code",
   "execution_count": 360,
   "id": "9e9a4b04-cb69-4a0d-ad4b-0c7c93d0cac9",
   "metadata": {},
   "outputs": [],
   "source": [
    "# join geography index to ospos\n",
    "ospos = pd.merge(ospos, gi, on = 'geography_entry_id_region_code', how = 'left')"
   ]
  },
  {
   "cell_type": "code",
   "execution_count": 387,
   "id": "691370bb-3a1a-49af-aafb-acaff2c32178",
   "metadata": {},
   "outputs": [],
   "source": [
    "# create linked dataframe\n",
    "links = ospos[ospos['address_entry_id_uprn'].isnull()==False]['region_name'].value_counts().to_frame()\n",
    "\n",
    "links.columns = ['linked_count']\n",
    "links.index.names = ['region']"
   ]
  },
  {
   "cell_type": "code",
   "execution_count": 388,
   "id": "7b78ac69-4612-42b3-9404-83ed4385d5e4",
   "metadata": {},
   "outputs": [],
   "source": [
    "# create non-linked dataframe\n",
    "non_links = ospos[ospos['address_entry_id_uprn'].isnull()==True]['region_name'].value_counts().to_frame()\n",
    "\n",
    "non_links.columns = ['non_linked_count']\n",
    "non_links.index.names = ['region']"
   ]
  },
  {
   "cell_type": "code",
   "execution_count": 389,
   "id": "5e75e92a-875b-4df3-8a9f-0a5b7f58c447",
   "metadata": {},
   "outputs": [],
   "source": [
    "# merge linked and non-linked dataframes for output\n",
    "df = pd.merge(links, non_links, on = 'region', how = 'inner')\n",
    "\n",
    "# calculate proportion of IDA data that has linked\n",
    "df['links'] = df['linked_count']/df['linked_count'].sum()*100\n",
    "\n",
    "# calculate proportion of data that has not linked\n",
    "df['non-links'] = df['non_linked_count']/df['non_linked_count'].sum()*100"
   ]
  },
  {
   "cell_type": "markdown",
   "id": "63973b93-e882-4be3-8584-bc4250ea097f",
   "metadata": {},
   "source": [
    "Overall match rate can then be easily calculated:"
   ]
  },
  {
   "cell_type": "code",
   "execution_count": 366,
   "id": "623de6ec-5660-43d1-831b-7ab2de891594",
   "metadata": {},
   "outputs": [
    {
     "name": "stdout",
     "output_type": "stream",
     "text": [
      "the match rate is: 99.98776132810218\n"
     ]
    }
   ],
   "source": [
    "unmatched  = df['non_linked_count'].sum()\n",
    "matched  = df['linked_count'].sum()\n",
    "\n",
    "print(\"the match rate is:\", ((matched-unmatched)/matched)*100)"
   ]
  },
  {
   "cell_type": "markdown",
   "id": "b2374520-3b7f-4916-88a9-f8fe93b90cb6",
   "metadata": {},
   "source": [
    "And we can take this further by then easily exploring the characteristics of the linked and non-linked data. For instance, exploring the trends in matches vs non-matches by region:"
   ]
  },
  {
   "cell_type": "code",
   "execution_count": 391,
   "id": "685e9880-e14b-486f-a357-eeb5e6904410",
   "metadata": {},
   "outputs": [
    {
     "data": {
      "text/html": [
       "<div>\n",
       "<style scoped>\n",
       "    .dataframe tbody tr th:only-of-type {\n",
       "        vertical-align: middle;\n",
       "    }\n",
       "\n",
       "    .dataframe tbody tr th {\n",
       "        vertical-align: top;\n",
       "    }\n",
       "\n",
       "    .dataframe thead th {\n",
       "        text-align: right;\n",
       "    }\n",
       "</style>\n",
       "<table border=\"1\" class=\"dataframe\">\n",
       "  <thead>\n",
       "    <tr style=\"text-align: right;\">\n",
       "      <th></th>\n",
       "      <th>linked_count</th>\n",
       "      <th>non_linked_count</th>\n",
       "      <th>links</th>\n",
       "      <th>non-links</th>\n",
       "    </tr>\n",
       "    <tr>\n",
       "      <th>region</th>\n",
       "      <th></th>\n",
       "      <th></th>\n",
       "      <th></th>\n",
       "      <th></th>\n",
       "    </tr>\n",
       "  </thead>\n",
       "  <tbody>\n",
       "    <tr>\n",
       "      <th>South East</th>\n",
       "      <td>3975090</td>\n",
       "      <td>199</td>\n",
       "      <td>16.079</td>\n",
       "      <td>6.576</td>\n",
       "    </tr>\n",
       "    <tr>\n",
       "      <th>London</th>\n",
       "      <td>3705372</td>\n",
       "      <td>187</td>\n",
       "      <td>14.988</td>\n",
       "      <td>6.180</td>\n",
       "    </tr>\n",
       "    <tr>\n",
       "      <th>North West</th>\n",
       "      <td>3351279</td>\n",
       "      <td>857</td>\n",
       "      <td>13.556</td>\n",
       "      <td>28.321</td>\n",
       "    </tr>\n",
       "    <tr>\n",
       "      <th>East of England</th>\n",
       "      <td>2723140</td>\n",
       "      <td>583</td>\n",
       "      <td>11.015</td>\n",
       "      <td>19.266</td>\n",
       "    </tr>\n",
       "    <tr>\n",
       "      <th>South West</th>\n",
       "      <td>2604346</td>\n",
       "      <td>367</td>\n",
       "      <td>10.535</td>\n",
       "      <td>12.128</td>\n",
       "    </tr>\n",
       "    <tr>\n",
       "      <th>West Midlands</th>\n",
       "      <td>2538132</td>\n",
       "      <td>250</td>\n",
       "      <td>10.267</td>\n",
       "      <td>8.262</td>\n",
       "    </tr>\n",
       "    <tr>\n",
       "      <th>Yorkshire and The Humber</th>\n",
       "      <td>2453069</td>\n",
       "      <td>322</td>\n",
       "      <td>9.923</td>\n",
       "      <td>10.641</td>\n",
       "    </tr>\n",
       "    <tr>\n",
       "      <th>East Midlands</th>\n",
       "      <td>2122978</td>\n",
       "      <td>257</td>\n",
       "      <td>8.587</td>\n",
       "      <td>8.493</td>\n",
       "    </tr>\n",
       "    <tr>\n",
       "      <th>North East</th>\n",
       "      <td>1248473</td>\n",
       "      <td>4</td>\n",
       "      <td>5.050</td>\n",
       "      <td>0.132</td>\n",
       "    </tr>\n",
       "  </tbody>\n",
       "</table>\n",
       "</div>"
      ],
      "text/plain": [
       "                          linked_count  non_linked_count  links  non-links\n",
       "region                                                                    \n",
       "South East                     3975090               199 16.079      6.576\n",
       "London                         3705372               187 14.988      6.180\n",
       "North West                     3351279               857 13.556     28.321\n",
       "East of England                2723140               583 11.015     19.266\n",
       "South West                     2604346               367 10.535     12.128\n",
       "West Midlands                  2538132               250 10.267      8.262\n",
       "Yorkshire and The Humber       2453069               322  9.923     10.641\n",
       "East Midlands                  2122978               257  8.587      8.493\n",
       "North East                     1248473                 4  5.050      0.132"
      ]
     },
     "execution_count": 391,
     "metadata": {},
     "output_type": "execute_result"
    }
   ],
   "source": [
    "df"
   ]
  },
  {
   "cell_type": "code",
   "execution_count": 393,
   "id": "794b1eb3-bb10-4b7b-b52c-84bf694f3817",
   "metadata": {},
   "outputs": [
    {
     "data": {
      "text/plain": [
       "Text(0.5, 0, 'percentage')"
      ]
     },
     "execution_count": 393,
     "metadata": {},
     "output_type": "execute_result"
    },
    {
     "data": {
      "image/png": "[encoded data removed]",
      "text/plain": [
       "<Figure size 1000x500 with 1 Axes>"
      ]
     },
     "metadata": {},
     "output_type": "display_data"
    }
   ],
   "source": [
    "ax = df[['links','non-links']].plot.barh(figsize=(10,5),\n",
    "                                         stacked = True, \n",
    "                                         color = {\"links\": \"#65009E\",\n",
    "                                                  \"non-links\": \"#EB7F1C\"})\n",
    "ax.set_xlabel(\"percentage\")"
   ]
  },
  {
   "cell_type": "markdown",
   "id": "328b6b48-1e31-4496-8efc-7ea4f6855869",
   "metadata": {},
   "source": [
    "Here we have only explored regional bias in our linked data, but other attributes and their associated bias can be just as easily analysed through these assets' integration with Address and Geography Indexes."
   ]
  }
 ],
 "metadata": {
  "environment": {
   "kernel": "python3",
   "name": "common-cpu.m96",
   "type": "gcloud",
   "uri": "gcr.io/deeplearning-platform-release/base-cpu:m96"
  },
  "kernelspec": {
   "display_name": "Python 3",
   "language": "python",
   "name": "python3"
  },
  "language_info": {
   "codemirror_mode": {
    "name": "ipython",
    "version": 3
   },
   "file_extension": ".py",
   "mimetype": "text/x-python",
   "name": "python",
   "nbconvert_exporter": "python",
   "pygments_lexer": "ipython3",
   "version": "3.7.12"
  }
 },
 "nbformat": 4,
 "nbformat_minor": 5
}
