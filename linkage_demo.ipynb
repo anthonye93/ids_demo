{
 "cells": [
  {
   "cell_type": "markdown",
   "id": "05bf6c63-17d7-411d-ac15-47b698e6f573",
   "metadata": {},
   "source": [
    "# IDS Integrated Data Asset (IDA) Linkage demo\n",
    "\n",
    "This script is broadly intended to demonstrate how easily RDMF indexed IDAs can be linked and thus prepared for analysts to use."
   ]
  },
  {
   "cell_type": "code",
   "execution_count": 2,
   "id": "fd23e2f3-c59f-46c5-acd1-f5afbd774424",
   "metadata": {},
   "outputs": [],
   "source": [
    "# import needed packages (not many!)\n",
    "from google.cloud import bigquery\n",
    "import pandas as pd"
   ]
  },
  {
   "cell_type": "code",
   "execution_count": 130,
   "id": "ad6661b2-3c47-4e7b-af8a-3dc3f1816fee",
   "metadata": {},
   "outputs": [],
   "source": [
    "df = pd.DataFrame({'geography_entry_id_region_code': [500000000000008, 500000000000009, 500000000000010, 500000000000011,\n",
    "                                                     500000000000012, 500000000000013, 500000000000014, 500000000000015,\n",
    "                                                     500000000000016],\n",
    "                  'geography_layer_code': ['E12000001', 'E12000002', 'E12000003', 'E12000004', 'E12000005', 'E12000006',\n",
    "                                          'E12000007', 'E12000008', 'E12000009'],\n",
    "                  'region_name': ['North East', 'North West', 'Yorkshire and The Humber', 'East Midlands', 'West Midlands',\n",
    "                                  'East of England', 'London', 'South East', 'South West']\n",
    "                  })"
   ]
  },
  {
   "cell_type": "code",
   "execution_count": 132,
   "id": "76155c17-2415-4eb3-a48c-80487e3df0f0",
   "metadata": {},
   "outputs": [
    {
     "data": {
      "text/html": [
       "<div>\n",
       "<style scoped>\n",
       "    .dataframe tbody tr th:only-of-type {\n",
       "        vertical-align: middle;\n",
       "    }\n",
       "\n",
       "    .dataframe tbody tr th {\n",
       "        vertical-align: top;\n",
       "    }\n",
       "\n",
       "    .dataframe thead th {\n",
       "        text-align: right;\n",
       "    }\n",
       "</style>\n",
       "<table border=\"1\" class=\"dataframe\">\n",
       "  <thead>\n",
       "    <tr style=\"text-align: right;\">\n",
       "      <th></th>\n",
       "      <th>geography_entry_id_region_code</th>\n",
       "      <th>geography_layer_code</th>\n",
       "      <th>region_name</th>\n",
       "    </tr>\n",
       "  </thead>\n",
       "  <tbody>\n",
       "    <tr>\n",
       "      <th>0</th>\n",
       "      <td>500000000000008</td>\n",
       "      <td>E12000001</td>\n",
       "      <td>North East</td>\n",
       "    </tr>\n",
       "    <tr>\n",
       "      <th>1</th>\n",
       "      <td>500000000000009</td>\n",
       "      <td>E12000002</td>\n",
       "      <td>North West</td>\n",
       "    </tr>\n",
       "    <tr>\n",
       "      <th>2</th>\n",
       "      <td>500000000000010</td>\n",
       "      <td>E12000003</td>\n",
       "      <td>Yorkshire and The Humber</td>\n",
       "    </tr>\n",
       "    <tr>\n",
       "      <th>3</th>\n",
       "      <td>500000000000011</td>\n",
       "      <td>E12000004</td>\n",
       "      <td>East Midlands</td>\n",
       "    </tr>\n",
       "    <tr>\n",
       "      <th>4</th>\n",
       "      <td>500000000000012</td>\n",
       "      <td>E12000005</td>\n",
       "      <td>West Midlands</td>\n",
       "    </tr>\n",
       "    <tr>\n",
       "      <th>5</th>\n",
       "      <td>500000000000013</td>\n",
       "      <td>E12000006</td>\n",
       "      <td>East of England</td>\n",
       "    </tr>\n",
       "    <tr>\n",
       "      <th>6</th>\n",
       "      <td>500000000000014</td>\n",
       "      <td>E12000007</td>\n",
       "      <td>London</td>\n",
       "    </tr>\n",
       "    <tr>\n",
       "      <th>7</th>\n",
       "      <td>500000000000015</td>\n",
       "      <td>E12000008</td>\n",
       "      <td>South East</td>\n",
       "    </tr>\n",
       "    <tr>\n",
       "      <th>8</th>\n",
       "      <td>500000000000016</td>\n",
       "      <td>E12000009</td>\n",
       "      <td>South West</td>\n",
       "    </tr>\n",
       "  </tbody>\n",
       "</table>\n",
       "</div>"
      ],
      "text/plain": [
       "   geography_entry_id_region_code geography_layer_code  \\\n",
       "0                 500000000000008            E12000001   \n",
       "1                 500000000000009            E12000002   \n",
       "2                 500000000000010            E12000003   \n",
       "3                 500000000000011            E12000004   \n",
       "4                 500000000000012            E12000005   \n",
       "5                 500000000000013            E12000006   \n",
       "6                 500000000000014            E12000007   \n",
       "7                 500000000000015            E12000008   \n",
       "8                 500000000000016            E12000009   \n",
       "\n",
       "                region_name  \n",
       "0                North East  \n",
       "1                North West  \n",
       "2  Yorkshire and The Humber  \n",
       "3             East Midlands  \n",
       "4             West Midlands  \n",
       "5           East of England  \n",
       "6                    London  \n",
       "7                South East  \n",
       "8                South West  "
      ]
     },
     "execution_count": 132,
     "metadata": {},
     "output_type": "execute_result"
    }
   ],
   "source": [
    "df"
   ]
  },
  {
   "cell_type": "code",
   "execution_count": 138,
   "id": "12ebb126-42b7-4fc2-ac97-83c6b33ac88a",
   "metadata": {},
   "outputs": [
    {
     "name": "stderr",
     "output_type": "stream",
     "text": [
      "100%|██████████| 1/1 [00:00<00:00, 5924.16it/s]\n"
     ]
    }
   ],
   "source": [
    "df.to_gbq('demo_wip_notebook.geography_index_lookup', \n",
    "                 'ons-ids-analysis-prod',\n",
    "                 chunksize=None, # I have tried with several chunk sizes, it runs faster when it's one big chunk (at least for me)\n",
    "                 )"
   ]
  },
  {
   "cell_type": "code",
   "execution_count": 137,
   "id": "fec5236a-07dc-46c2-bf14-311fa6bb1d98",
   "metadata": {},
   "outputs": [
    {
     "ename": "SyntaxError",
     "evalue": "invalid syntax (3409532940.py, line 1)",
     "output_type": "error",
     "traceback": [
      "\u001b[0;36m  File \u001b[0;32m\"/tmp/ipykernel_15313/3409532940.py\"\u001b[0;36m, line \u001b[0;32m1\u001b[0m\n\u001b[0;31m    import pandas-gbq\u001b[0m\n\u001b[0m                 ^\u001b[0m\n\u001b[0;31mSyntaxError\u001b[0m\u001b[0;31m:\u001b[0m invalid syntax\n"
     ]
    }
   ],
   "source": [
    "import pandas-gbq"
   ]
  },
  {
   "cell_type": "code",
   "execution_count": 120,
   "id": "f244c04d-bad2-401c-8aa6-783949ccda64",
   "metadata": {},
   "outputs": [],
   "source": [
    "# joining OSPOS/LRPP linked data with EPC data\n",
    "# may need to exclude columns before the join:\n",
    "# EXCEPT (geography_entry_id_postcode, uprn_hashed, postcode_hashed, guid, property_type, address_entry_id_uprn)\n",
    "\n",
    "query = (\"\"\"\n",
    "\n",
    "SELECT\n",
    "  geography_entry_id_region_code\n",
    "FROM\n",
    "  `ons-ids-analysis-prod.demo_wip_notebook.ospos_lrpp_linked`\n",
    "   \n",
    "\"\"\")\n",
    "\n",
    "query_job = client.query(\n",
    "    query,\n",
    "    location=\"europe-west2\",\n",
    ")\n",
    "\n",
    "linked_data = query_job.to_dataframe()"
   ]
  },
  {
   "cell_type": "code",
   "execution_count": 129,
   "id": "8b46d0b9-44be-463b-98e6-a8bf58795cb6",
   "metadata": {},
   "outputs": [
    {
     "data": {
      "text/html": [
       "<div>\n",
       "<style scoped>\n",
       "    .dataframe tbody tr th:only-of-type {\n",
       "        vertical-align: middle;\n",
       "    }\n",
       "\n",
       "    .dataframe tbody tr th {\n",
       "        vertical-align: top;\n",
       "    }\n",
       "\n",
       "    .dataframe thead th {\n",
       "        text-align: right;\n",
       "    }\n",
       "</style>\n",
       "<table border=\"1\" class=\"dataframe\">\n",
       "  <thead>\n",
       "    <tr style=\"text-align: right;\">\n",
       "      <th></th>\n",
       "      <th>geography_entry_id_region_code</th>\n",
       "      <th>geography_layer_code</th>\n",
       "    </tr>\n",
       "  </thead>\n",
       "  <tbody>\n",
       "    <tr>\n",
       "      <th>0</th>\n",
       "      <td>500000000000008</td>\n",
       "      <td>E12000001</td>\n",
       "    </tr>\n",
       "    <tr>\n",
       "      <th>1</th>\n",
       "      <td>500000000000008</td>\n",
       "      <td>E12000001</td>\n",
       "    </tr>\n",
       "    <tr>\n",
       "      <th>2</th>\n",
       "      <td>500000000000008</td>\n",
       "      <td>E12000001</td>\n",
       "    </tr>\n",
       "    <tr>\n",
       "      <th>3</th>\n",
       "      <td>500000000000008</td>\n",
       "      <td>E12000001</td>\n",
       "    </tr>\n",
       "    <tr>\n",
       "      <th>4</th>\n",
       "      <td>500000000000008</td>\n",
       "      <td>E12000001</td>\n",
       "    </tr>\n",
       "    <tr>\n",
       "      <th>...</th>\n",
       "      <td>...</td>\n",
       "      <td>...</td>\n",
       "    </tr>\n",
       "    <tr>\n",
       "      <th>24612807</th>\n",
       "      <td>500000000000016</td>\n",
       "      <td>E12000009</td>\n",
       "    </tr>\n",
       "    <tr>\n",
       "      <th>24612808</th>\n",
       "      <td>500000000000016</td>\n",
       "      <td>E12000009</td>\n",
       "    </tr>\n",
       "    <tr>\n",
       "      <th>24612809</th>\n",
       "      <td>500000000000016</td>\n",
       "      <td>E12000009</td>\n",
       "    </tr>\n",
       "    <tr>\n",
       "      <th>24612810</th>\n",
       "      <td>500000000000016</td>\n",
       "      <td>E12000009</td>\n",
       "    </tr>\n",
       "    <tr>\n",
       "      <th>24612811</th>\n",
       "      <td>500000000000016</td>\n",
       "      <td>E12000009</td>\n",
       "    </tr>\n",
       "  </tbody>\n",
       "</table>\n",
       "<p>24612812 rows × 2 columns</p>\n",
       "</div>"
      ],
      "text/plain": [
       "          geography_entry_id_region_code geography_layer_code\n",
       "0                        500000000000008            E12000001\n",
       "1                        500000000000008            E12000001\n",
       "2                        500000000000008            E12000001\n",
       "3                        500000000000008            E12000001\n",
       "4                        500000000000008            E12000001\n",
       "...                                  ...                  ...\n",
       "24612807                 500000000000016            E12000009\n",
       "24612808                 500000000000016            E12000009\n",
       "24612809                 500000000000016            E12000009\n",
       "24612810                 500000000000016            E12000009\n",
       "24612811                 500000000000016            E12000009\n",
       "\n",
       "[24612812 rows x 2 columns]"
      ]
     },
     "execution_count": 129,
     "metadata": {},
     "output_type": "execute_result"
    }
   ],
   "source": [
    "pd.merge(df, linked_data, on = 'geography_entry_id_region_code', how = 'inner')"
   ]
  },
  {
   "cell_type": "code",
   "execution_count": 123,
   "id": "5b80cbf9-be8b-4cd0-8b82-2e9e4bf815d1",
   "metadata": {},
   "outputs": [
    {
     "data": {
      "text/plain": [
       "500000000000015.000    4487211\n",
       "500000000000014.000    3213019\n",
       "500000000000009.000    3124714\n",
       "500000000000013.000    3009032\n",
       "500000000000016.000    2811756\n",
       "500000000000010.000    2339805\n",
       "500000000000012.000    2320427\n",
       "500000000000011.000    2188952\n",
       "500000000000008.000    1117896\n",
       "Name: geography_entry_id_region_code, dtype: int64"
      ]
     },
     "execution_count": 123,
     "metadata": {},
     "output_type": "execute_result"
    }
   ],
   "source": [
    "linked_data.geography_entry_id_region_code.value_counts()"
   ]
  },
  {
   "cell_type": "code",
   "execution_count": 3,
   "id": "0d155d22-e798-477a-a522-cc5e3eb9f649",
   "metadata": {},
   "outputs": [],
   "source": [
    "# initiate client for bigquery\n",
    "client = bigquery.Client(location=\"europe-west2\")"
   ]
  },
  {
   "cell_type": "markdown",
   "id": "6c9eda21-9a44-4a79-ac22-53bf6cbcb54f",
   "metadata": {},
   "source": [
    "First, we need to link together the `std` and `georef` versions of the required assets, so that we have all of the data's attributes, along with it's geographic information that will link back to the address/geography indexes. These each have `guid` columns this can be done with.\n",
    "\n",
    "First, let's do this for the Energy Performance Certificates data, which will give us insights into housing energy efficiency:"
   ]
  },
  {
   "cell_type": "code",
   "execution_count": 12,
   "id": "d9f67937-5d6e-4cfb-b82c-cc16fd68cc80",
   "metadata": {},
   "outputs": [
    {
     "data": {
      "text/plain": [
       "<google.cloud.bigquery.table.RowIterator at 0x7fec2c1be890>"
      ]
     },
     "execution_count": 12,
     "metadata": {},
     "output_type": "execute_result"
    }
   ],
   "source": [
    "# linking EPC std and georef data\n",
    "query = (\"\"\"\n",
    "\n",
    "SELECT\n",
    " *\n",
    "FROM\n",
    "  `some_path_epc_georef` t1\n",
    "JOIN\n",
    "  `some_path_epc_std` t2\n",
    "ON\n",
    "  t1.id = t2.guid\n",
    "\n",
    "\"\"\")\n",
    "\n",
    "table_ref = 'ons-ids-analysis-prod.demo_wip_notebook.EPC_linked' # table name reference for saving output\n",
    "\n",
    "job_config = bigquery.QueryJobConfig(\n",
    "    destination= table_ref\n",
    ") # specify table destination in job config\n",
    "\n",
    "query_job = client.query(\n",
    "    query,\n",
    "    location=\"europe-west2\",\n",
    "    job_config = job_config\n",
    ")  # API request - starts the query\n",
    "\n",
    "query_job.result()"
   ]
  },
  {
   "cell_type": "markdown",
   "id": "14eb0750-6c4d-458f-ad3d-f7a71d96d10f",
   "metadata": {},
   "source": [
    "Next, let's do the same for the Land Registry Price Paid (LRPP) data, which will give us house sale price information:"
   ]
  },
  {
   "cell_type": "code",
   "execution_count": 47,
   "id": "864fd225-ba1d-492f-af10-109a54840e71",
   "metadata": {},
   "outputs": [
    {
     "data": {
      "text/plain": [
       "<google.cloud.bigquery.table.RowIterator at 0x7fec26702b90>"
      ]
     },
     "execution_count": 47,
     "metadata": {},
     "output_type": "execute_result"
    }
   ],
   "source": [
    "# joining georef and std LRPP tables\n",
    "query = (\"\"\"\n",
    "\n",
    "SELECT\n",
    "  *\n",
    "FROM\n",
    "  `ingest_ida_land_registry_price_paid.prices_paid_georef` t1\n",
    "JOIN\n",
    "  `ingest_ida_land_registry_price_paid.prices_paid_std` t2\n",
    "ON\n",
    "  t1.id = t2.guid\n",
    "\n",
    "\"\"\")\n",
    "table_ref = 'ons-ids-analysis-prod.demo_wip_notebook.lrpp_linked'\n",
    "\n",
    "job_config = bigquery.QueryJobConfig(\n",
    "    destination= table_ref\n",
    ")\n",
    "\n",
    "query_job = client.query(\n",
    "    query,\n",
    "    location=\"europe-west2\",\n",
    "    job_config=job_config\n",
    ")\n",
    "\n",
    "\n",
    "query_job.result()"
   ]
  },
  {
   "cell_type": "markdown",
   "id": "17e5627d-c0a2-4a26-a3f9-c59711ccadda",
   "metadata": {},
   "source": [
    "Finally, and this is the bit where the Integrated Data Asset version of these datasets comes in handy, we can link all of these sources together on their `address_entry_id` variables. This is the lookup to the RDMF, specifically the address index, and is a unique identifier in this case."
   ]
  },
  {
   "cell_type": "code",
   "execution_count": 103,
   "id": "81e192d7-5fcd-4d5d-8011-8e5e02623494",
   "metadata": {},
   "outputs": [
    {
     "data": {
      "text/plain": [
       "<google.cloud.bigquery.table.RowIterator at 0x7f5c033f0910>"
      ]
     },
     "execution_count": 103,
     "metadata": {},
     "output_type": "execute_result"
    }
   ],
   "source": [
    "# joining OSPOS and (newly joined) LRPP tables\n",
    "query = (\"\"\"\n",
    "\n",
    "SELECT\n",
    "  geography_entry_id_lsoa_code,\n",
    "  geography_entry_id_oa_code,\n",
    "  geography_entry_id_lad_code,\n",
    "  geography_entry_id_msoa_code,\n",
    "  geography_entry_id_country_code,\n",
    "  geography_entry_id_region_code,\n",
    "  lsoa_code_hashed,\n",
    "  oa_code_hashed,\n",
    "  lad_code_hashed,\n",
    "  msoa_code_hashed,\n",
    "  country_code_hashed,\n",
    "  region_code_hashed,\n",
    "  class,\n",
    "  voa_ct_record,\n",
    "  ruc_code,\n",
    "  ruc,\n",
    "  ur2fold,\n",
    "  ur3fold,\n",
    "  ur6fold,\n",
    "  ur8fold,\n",
    "  building_flat_count,\n",
    "  private_outdoor_space,\n",
    "  private_outdoor_space_area,\n",
    "  t1.address_entry_id_uprn,\n",
    "  t2.address_entry_id_uprn AS t2_address_entry_id_uprn,\n",
    "  t2.id,\n",
    "  apiversion,\n",
    "  confidencescore,\n",
    "  epoch,\n",
    "  underlyingscore,\n",
    "  t2.geography_entry_id_postcode,\n",
    "  t2.postcode_hashed,\n",
    "  t2.guid,\n",
    "  t2.transaction_uid,\n",
    "  price,\n",
    "  date_of_transfer,\n",
    "  t2.property_type,\n",
    "  old_new,\n",
    "  duration,\n",
    "  locality,\n",
    "  ppd_category_type,\n",
    "  derived_year\n",
    "FROM\n",
    "  `ons-ids-data-prod.ingest_ida_ordnance_survey_private_outside_space.april_gb_private_outdoor_space_std` AS t1\n",
    "JOIN\n",
    "  `ons-ids-analysis-prod.demo_wip_notebook.lrpp_linked` AS t2\n",
    "ON\n",
    "  t1.address_entry_id_uprn = t2.address_entry_id_uprn\n",
    "  \n",
    "\"\"\")\n",
    "\n",
    "table_ref = 'ons-ids-analysis-prod.demo_wip_notebook.ospos_lrpp_linked'\n",
    "\n",
    "job_config = bigquery.QueryJobConfig(\n",
    "    destination= table_ref\n",
    ")\n",
    "\n",
    "job_config.write_disposition = \"WRITE_TRUNCATE\"\n",
    "\n",
    "query_job = client.query(\n",
    "    query,\n",
    "    location=\"europe-west2\",\n",
    "    job_config=job_config\n",
    ")\n",
    "\n",
    "query_job.result()"
   ]
  },
  {
   "cell_type": "code",
   "execution_count": null,
   "id": "fcdc966c-f57d-4cae-a6fa-784434c1f1ca",
   "metadata": {},
   "outputs": [],
   "source": [
    "# joining OSPOS/LRPP linked data with EPC data\n",
    "# may need to exclude columns before the join:\n",
    "# EXCEPT (geography_entry_id_postcode, uprn_hashed, postcode_hashed, guid, property_type, address_entry_id_uprn)\n",
    "\n",
    "query = (\"\"\"\n",
    "\n",
    "SELECT\n",
    "  *\n",
    "FROM\n",
    "  `ons-ids-analysis-prod.demo_wip_notebook.ospos_lrpp_linked` t1\n",
    "JOIN\n",
    "  `ons-ids-analysis-prod.demo_wip_notebook.EPC_linked` t2\n",
    "ON\n",
    "  t1.address_entry_id_uprn = t2.address_entry_id_uprn;\n",
    "    \n",
    "\"\"\")\n",
    "\n",
    "table_ref = 'ons-ids-analysis-prod.demo_wip_notebook.ospos_lrpp_epc_linked'\n",
    "\n",
    "job_config = bigquery.QueryJobConfig(\n",
    "    destination= table_ref\n",
    ")\n",
    "\n",
    "query_job = client.query(\n",
    "    query,\n",
    "    location=\"europe-west2\",\n",
    "    job_config=job_config\n",
    ")\n",
    "\n",
    "query_job.result()"
   ]
  },
  {
   "cell_type": "markdown",
   "id": "95b7277f-3a38-436b-a6e6-bd4ac8cdcf1f",
   "metadata": {},
   "source": [
    "## Non-matches and bias"
   ]
  },
  {
   "cell_type": "code",
   "execution_count": null,
   "id": "f3a7fb09-f14d-44d0-a298-3f464bd46d55",
   "metadata": {},
   "outputs": [],
   "source": [
    "# joining georef and std LRPP tables\n",
    "query = (\"\"\"\n",
    "SELECT \n",
    "\n",
    " address_entry_id_uprn\n",
    "\n",
    "FROM \n",
    " `ons-ids-analysis-prod.demo_wip_notebook.lrpp_linked`\n",
    "\n",
    "\"\"\")\n",
    "\n",
    "query_job = client.query(\n",
    "    query,\n",
    "    location=\"europe-west2\",\n",
    ")  # API request - starts the query\n",
    "\n",
    "\n",
    "df = query_job.to_dataframe()"
   ]
  },
  {
   "cell_type": "markdown",
   "id": "a5162f26-ec49-4cbe-b7af-46e15a34f5a5",
   "metadata": {},
   "source": [
    "For cases where records did not match to an RDMF index, for example the address index, their `address_entry_id` will be null. This allows identification of the non-matching records"
   ]
  },
  {
   "cell_type": "code",
   "execution_count": 112,
   "id": "623de6ec-5660-43d1-831b-7ab2de891594",
   "metadata": {},
   "outputs": [
    {
     "name": "stdout",
     "output_type": "stream",
     "text": [
      "the match rate is: 99.98994303084024\n"
     ]
    }
   ],
   "source": [
    "unmatched  = len(df[df.address_entry_id_uprn.isnull() == True])\n",
    "matched  = len(df[df.address_entry_id_uprn.isnull() == False])\n",
    "\n",
    "print(\"the match rate is:\", ((matched-unmatched)/matched)*100)"
   ]
  },
  {
   "cell_type": "markdown",
   "id": "4e09e4c2-59bb-43e6-8f72-a76bb9cfb2cc",
   "metadata": {},
   "source": [
    "The analysts can then easily explore the characteristics of the non-linking data. For instance, exploring the trends in matches vs non-matches by region:"
   ]
  },
  {
   "cell_type": "code",
   "execution_count": 10,
   "id": "d29dcfbf-17e7-44cf-8b30-dbcf0fcbdd3e",
   "metadata": {},
   "outputs": [
    {
     "data": {
      "text/plain": [
       "26886828"
      ]
     },
     "execution_count": 10,
     "metadata": {},
     "output_type": "execute_result"
    }
   ],
   "source": [
    "# read in geography index lookup, join on geography_entry_region_code\n",
    "\n",
    "# hashed values - can aggregate on these hashed values to explore bias (i.e. same hashed uprn for same hh)\n",
    "\n",
    "# match rate by region"
   ]
  },
  {
   "cell_type": "code",
   "execution_count": null,
   "id": "b1a9d981-0e3e-4f35-84b8-20e0a65b8866",
   "metadata": {},
   "outputs": [],
   "source": [
    "# exploring LRPP join\n",
    "query = (\"\"\"\n",
    "SELECT \n",
    "COUNT(*) as numRecords\n",
    "\n",
    "FROM `ingest_ida_land_registry_price_paid.prices_paid_georef` t1\n",
    "JOIN `ingest_ida_land_registry_price_paid.prices_paid_std` t2\n",
    "\n",
    "ON t1.id = t2.guid;\n",
    "\"\"\")\n",
    "\n",
    "query_job = client.query(\n",
    "    query,\n",
    "    location=\"europe-west2\",\n",
    ")  # API request - starts the query\n",
    "\n",
    "df  = query_job.to_dataframe()"
   ]
  },
  {
   "cell_type": "code",
   "execution_count": 30,
   "id": "3e737663-d61f-412d-89e7-4d0a57039236",
   "metadata": {},
   "outputs": [
    {
     "data": {
      "text/html": [
       "<div>\n",
       "<style scoped>\n",
       "    .dataframe tbody tr th:only-of-type {\n",
       "        vertical-align: middle;\n",
       "    }\n",
       "\n",
       "    .dataframe tbody tr th {\n",
       "        vertical-align: top;\n",
       "    }\n",
       "\n",
       "    .dataframe thead th {\n",
       "        text-align: right;\n",
       "    }\n",
       "</style>\n",
       "<table border=\"1\" class=\"dataframe\">\n",
       "  <thead>\n",
       "    <tr style=\"text-align: right;\">\n",
       "      <th></th>\n",
       "      <th>numRecords</th>\n",
       "    </tr>\n",
       "  </thead>\n",
       "  <tbody>\n",
       "    <tr>\n",
       "      <th>0</th>\n",
       "      <td>26889532</td>\n",
       "    </tr>\n",
       "  </tbody>\n",
       "</table>\n",
       "</div>"
      ],
      "text/plain": [
       "   numRecords\n",
       "0    26889532"
      ]
     },
     "execution_count": 30,
     "metadata": {},
     "output_type": "execute_result"
    }
   ],
   "source": [
    "# all 26889532 records join\n",
    "df"
   ]
  },
  {
   "cell_type": "code",
   "execution_count": 16,
   "id": "a18ff214-b8fe-49bc-a8c7-cb4816f050d4",
   "metadata": {},
   "outputs": [],
   "source": [
    "# exploring LRPP columns, querying where a false condition is true to just return column names\n",
    "query = (\"\"\"\n",
    "SELECT * \n",
    "\n",
    "FROM `ingest_ida_land_registry_price_paid.prices_paid_std`\n",
    "\n",
    "WHERE 1 = 0\n",
    "\"\"\")\n",
    "\n",
    "query_job = client.query(\n",
    "    query,\n",
    "    location=\"europe-west2\",\n",
    ")  # API request - starts the query\n",
    "\n",
    "df  = query_job.to_dataframe()\n"
   ]
  },
  {
   "cell_type": "code",
   "execution_count": 17,
   "id": "d84ad140-ffea-4476-adb7-21148e476749",
   "metadata": {},
   "outputs": [
    {
     "data": {
      "text/plain": [
       "['geography_entry_id_postcode',\n",
       " 'postcode_hashed',\n",
       " 'guid',\n",
       " 'transaction_uid',\n",
       " 'price',\n",
       " 'date_of_transfer',\n",
       " 'property_type',\n",
       " 'old_new',\n",
       " 'duration',\n",
       " 'locality',\n",
       " 'ppd_category_type',\n",
       " 'derived_year']"
      ]
     },
     "execution_count": 17,
     "metadata": {},
     "output_type": "execute_result"
    }
   ],
   "source": [
    "df.columns.tolist()"
   ]
  }
 ],
 "metadata": {
  "environment": {
   "kernel": "python3",
   "name": "common-cpu.m96",
   "type": "gcloud",
   "uri": "gcr.io/deeplearning-platform-release/base-cpu:m96"
  },
  "kernelspec": {
   "display_name": "Python 3",
   "language": "python",
   "name": "python3"
  },
  "language_info": {
   "codemirror_mode": {
    "name": "ipython",
    "version": 3
   },
   "file_extension": ".py",
   "mimetype": "text/x-python",
   "name": "python",
   "nbconvert_exporter": "python",
   "pygments_lexer": "ipython3",
   "version": "3.7.12"
  }
 },
 "nbformat": 4,
 "nbformat_minor": 5
}
