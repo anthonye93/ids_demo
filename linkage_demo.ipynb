{
 "cells": [
  {
   "cell_type": "markdown",
   "id": "05bf6c63-17d7-411d-ac15-47b698e6f573",
   "metadata": {},
   "source": [
    "# IDS Integrated Data Asset (IDA) Linkage demo\n",
    "\n",
    "This script is broadly intended to demonstrate how easily RDMF indexed IDAs can be linked and thus prepared for analysts to use."
   ]
  },
  {
   "cell_type": "code",
   "execution_count": 203,
   "id": "fd23e2f3-c59f-46c5-acd1-f5afbd774424",
   "metadata": {},
   "outputs": [],
   "source": [
    "# import needed packages (not many!)\n",
    "from google.cloud import bigquery\n",
    "import pandas as pd"
   ]
  },
  {
   "cell_type": "code",
   "execution_count": 204,
   "id": "0d155d22-e798-477a-a522-cc5e3eb9f649",
   "metadata": {},
   "outputs": [],
   "source": [
    "# initiate client for bigquery\n",
    "client = bigquery.Client(location=\"europe-west2\")"
   ]
  },
  {
   "cell_type": "markdown",
   "id": "6c9eda21-9a44-4a79-ac22-53bf6cbcb54f",
   "metadata": {},
   "source": [
    "## Joining std and georef files\n",
    "First, we need to link together the `std` and `georef` versions of the required assets, so that we have all of the data's attributes, along with it's geographic information that will link back to the address/geography indexes. These each have `guid` columns this can be done with.\n",
    "\n",
    "First, let's do this for the Energy Performance Certificates data, which will give us insights into housing energy efficiency:"
   ]
  },
  {
   "cell_type": "markdown",
   "id": "14eb0750-6c4d-458f-ad3d-f7a71d96d10f",
   "metadata": {},
   "source": [
    "Next, let's do the same for the Land Registry Price Paid (LRPP) data, which will give us house sale price information:"
   ]
  },
  {
   "cell_type": "code",
   "execution_count": 47,
   "id": "864fd225-ba1d-492f-af10-109a54840e71",
   "metadata": {},
   "outputs": [
    {
     "data": {
      "text/plain": [
       "<google.cloud.bigquery.table.RowIterator at 0x7fec26702b90>"
      ]
     },
     "execution_count": 47,
     "metadata": {},
     "output_type": "execute_result"
    }
   ],
   "source": [
    "# joining georef and std LRPP tables\n",
    "query = (\"\"\"\n",
    "\n",
    "SELECT\n",
    "  *\n",
    "FROM\n",
    "  `ingest_ida_land_registry_price_paid.prices_paid_georef` t1\n",
    "JOIN\n",
    "  `ingest_ida_land_registry_price_paid.prices_paid_std` t2\n",
    "ON\n",
    "  t1.id = t2.guid\n",
    "\n",
    "\"\"\")\n",
    "table_ref = 'ons-ids-analysis-prod.demo_wip_notebook.lrpp_linked'\n",
    "\n",
    "job_config = bigquery.QueryJobConfig(\n",
    "    destination= table_ref\n",
    ")\n",
    "\n",
    "query_job = client.query(\n",
    "    query,\n",
    "    location=\"europe-west2\",\n",
    "    job_config=job_config\n",
    ")\n",
    "\n",
    "\n",
    "query_job.result()"
   ]
  },
  {
   "cell_type": "markdown",
   "id": "17e5627d-c0a2-4a26-a3f9-c59711ccadda",
   "metadata": {},
   "source": [
    "## Linking the EPC, LRPP and OSPOS data\n",
    "Finally, and this is the bit where the Integrated Data Asset version of these datasets comes in handy, we can link all of these sources together on their `address_entry_id` variables. This is the lookup to the RDMF, specifically the address index, and is a unique identifier in this case."
   ]
  },
  {
   "cell_type": "code",
   "execution_count": 103,
   "id": "81e192d7-5fcd-4d5d-8011-8e5e02623494",
   "metadata": {},
   "outputs": [
    {
     "data": {
      "text/plain": [
       "<google.cloud.bigquery.table.RowIterator at 0x7f5c033f0910>"
      ]
     },
     "execution_count": 103,
     "metadata": {},
     "output_type": "execute_result"
    }
   ],
   "source": [
    "# joining OSPOS and (newly joined) LRPP tables\n",
    "query = (\"\"\"\n",
    "\n",
    "SELECT\n",
    "  geography_entry_id_lsoa_code,\n",
    "  geography_entry_id_oa_code,\n",
    "  geography_entry_id_lad_code,\n",
    "  geography_entry_id_msoa_code,\n",
    "  geography_entry_id_country_code,\n",
    "  geography_entry_id_region_code,\n",
    "  lsoa_code_hashed,\n",
    "  oa_code_hashed,\n",
    "  lad_code_hashed,\n",
    "  msoa_code_hashed,\n",
    "  country_code_hashed,\n",
    "  region_code_hashed,\n",
    "  class,\n",
    "  voa_ct_record,\n",
    "  ruc_code,\n",
    "  ruc,\n",
    "  ur2fold,\n",
    "  ur3fold,\n",
    "  ur6fold,\n",
    "  ur8fold,\n",
    "  building_flat_count,\n",
    "  private_outdoor_space,\n",
    "  private_outdoor_space_area,\n",
    "  t1.address_entry_id_uprn,\n",
    "  t2.address_entry_id_uprn AS t2_address_entry_id_uprn,\n",
    "  t2.id,\n",
    "  apiversion,\n",
    "  confidencescore,\n",
    "  epoch,\n",
    "  underlyingscore,\n",
    "  t2.geography_entry_id_postcode,\n",
    "  t2.postcode_hashed,\n",
    "  t2.guid,\n",
    "  t2.transaction_uid,\n",
    "  price,\n",
    "  date_of_transfer,\n",
    "  t2.property_type,\n",
    "  old_new,\n",
    "  duration,\n",
    "  locality,\n",
    "  ppd_category_type,\n",
    "  derived_year\n",
    "FROM\n",
    "  `ons-ids-data-prod.ingest_ida_ordnance_survey_private_outside_space.april_gb_private_outdoor_space_std` AS t1\n",
    "JOIN\n",
    "  `ons-ids-analysis-prod.demo_wip_notebook.lrpp_linked` AS t2\n",
    "ON\n",
    "  t1.address_entry_id_uprn = t2.address_entry_id_uprn\n",
    "  \n",
    "\"\"\")\n",
    "\n",
    "table_ref = 'ons-ids-analysis-prod.demo_wip_notebook.ospos_lrpp_linked'\n",
    "\n",
    "job_config = bigquery.QueryJobConfig(\n",
    "    destination= table_ref\n",
    ")\n",
    "\n",
    "job_config.write_disposition = \"WRITE_TRUNCATE\"\n",
    "\n",
    "query_job = client.query(\n",
    "    query,\n",
    "    location=\"europe-west2\",\n",
    "    job_config=job_config\n",
    ")\n",
    "\n",
    "query_job.result()"
   ]
  },
  {
   "cell_type": "code",
   "execution_count": 160,
   "id": "4a0accc1-066d-4ad5-a0fe-46a8abc08dcd",
   "metadata": {},
   "outputs": [],
   "source": [
    "# create linked OSPOS_LRPP to GI table\n",
    "query = (\"\"\"\n",
    "SELECT \n",
    "\n",
    " geography_entry_id_region_code\n",
    " \n",
    "FROM \n",
    " `ons-ids-analysis-prod.demo_wip_notebook.ospos_lrpp_linked` AS t1\n",
    " \n",
    "\"\"\")\n",
    "\n",
    "query_job = client.query(\n",
    "    query,\n",
    "    location=\"europe-west2\",\n",
    ")  # API request - starts the query\n",
    "\n",
    "ospos_lrpp = query_job.to_dataframe()"
   ]
  },
  {
   "cell_type": "code",
   "execution_count": 183,
   "id": "38e7b935-bf40-423e-803e-08b2b057c446",
   "metadata": {},
   "outputs": [],
   "source": [
    "# create linked OSPOS_LRPP to GI table\n",
    "query = (\"\"\"\n",
    "SELECT \n",
    "\n",
    " *\n",
    " \n",
    "FROM \n",
    " `ons-ids-analysis-prod.demo_wip_notebook.ospos_lrpp_linked`\n",
    " \n",
    "WHERE 1 = 0\n",
    "\"\"\")\n",
    "\n",
    "query_job = client.query(\n",
    "    query,\n",
    "    location=\"europe-west2\",\n",
    ")  # API request - starts the query\n",
    "\n",
    "linked_cols = query_job.to_dataframe()"
   ]
  },
  {
   "cell_type": "code",
   "execution_count": 190,
   "id": "e147b5d8-4c97-4546-8bc2-973cd06559d2",
   "metadata": {},
   "outputs": [],
   "source": [
    "linked_cols = linked_cols.columns.tolist()"
   ]
  },
  {
   "cell_type": "code",
   "execution_count": 164,
   "id": "87dc6ad5-cb92-498a-abc0-31681ac058d7",
   "metadata": {},
   "outputs": [
    {
     "data": {
      "text/plain": [
       "24612812"
      ]
     },
     "execution_count": 164,
     "metadata": {},
     "output_type": "execute_result"
    }
   ],
   "source": [
    "len(ospos_lrpp[ospos_lrpp.geography_entry_id_region_code.isnull()==False])"
   ]
  },
  {
   "cell_type": "markdown",
   "id": "95b7277f-3a38-436b-a6e6-bd4ac8cdcf1f",
   "metadata": {},
   "source": [
    "## Non-matches and bias"
   ]
  },
  {
   "cell_type": "code",
   "execution_count": 299,
   "id": "f3a7fb09-f14d-44d0-a298-3f464bd46d55",
   "metadata": {},
   "outputs": [],
   "source": [
    "# create matched dataframe - linked OSPOS_LRPP to GI table\n",
    "query = (\"\"\"\n",
    "SELECT \n",
    "\n",
    " address_entry_id_uprn,\n",
    " t1.geography_entry_id_region_code AS t1_geography_entry_id_region_code,\n",
    " t2.region_name\n",
    " \n",
    "FROM \n",
    " `ons-ids-analysis-prod.demo_wip_notebook.ospos_lrpp_linked` AS t1\n",
    " \n",
    "JOIN\n",
    "  `ons-ids-analysis-prod.demo_wip_notebook.geography_index_lookup` AS t2\n",
    "ON\n",
    "  t1.geography_entry_id_region_code = t2.geography_entry_id_region_code\n",
    "\n",
    "\"\"\")\n",
    "\n",
    "query_job = client.query(\n",
    "    query,\n",
    "    location=\"europe-west2\",\n",
    ")  # API request - starts the query\n",
    "\n",
    "matches = query_job.to_dataframe()"
   ]
  },
  {
   "cell_type": "code",
   "execution_count": 300,
   "id": "9f7294c7-e5c0-4b25-839a-63acf9989e16",
   "metadata": {},
   "outputs": [
    {
     "data": {
      "text/plain": [
       "South East                  4487211\n",
       "London                      3213019\n",
       "North West                  3124714\n",
       "East of England             3009032\n",
       "South West                  2811756\n",
       "Yorkshire and The Humber    2339805\n",
       "West Midlands               2320427\n",
       "East Midlands               2188952\n",
       "North East                  1117896\n",
       "Name: region_name, dtype: int64"
      ]
     },
     "execution_count": 300,
     "metadata": {},
     "output_type": "execute_result"
    }
   ],
   "source": [
    "matches.region_name.value_counts()"
   ]
  },
  {
   "cell_type": "code",
   "execution_count": 302,
   "id": "3d5c6eff-c5be-4e32-9e2f-35b597174806",
   "metadata": {},
   "outputs": [],
   "source": [
    "# create non-matches dataframe\n",
    "query = (\"\"\"\n",
    "SELECT \n",
    "\n",
    " address_entry_id_uprn,\n",
    " geography_entry_id_region_code,\n",
    "FROM\n",
    "  `ons-ids-data-prod.ingest_ida_ordnance_survey_private_outside_space.april_gb_private_outdoor_space_std`\n",
    "WHERE address_entry_id_uprn is NULL\n",
    "\"\"\")\n",
    "\n",
    "query_job = client.query(\n",
    "    query,\n",
    "    location=\"europe-west2\",\n",
    ")  # API request - starts the query\n",
    "\n",
    "non_matches_ospos = query_job.to_dataframe()"
   ]
  },
  {
   "cell_type": "code",
   "execution_count": 316,
   "id": "c229e9a9-df36-43a5-b776-3a4e8680a1bd",
   "metadata": {},
   "outputs": [],
   "source": [
    "# read in OSPOS for region lookup to ospos non-links\n",
    "query = (\"\"\"\n",
    "SELECT \n",
    "\n",
    " address_entry_id_uprn,\n",
    " geography_entry_id_region_code\n",
    "FROM\n",
    "  `ons-ids-data-prod.ingest_ida_ordnance_survey_private_outside_space.april_gb_private_outdoor_space_std`\n",
    "\"\"\")\n",
    "\n",
    "query_job = client.query(\n",
    "    query,\n",
    "    location=\"europe-west2\",\n",
    ")  # API request - starts the query\n",
    "\n",
    "ospos = query_job.to_dataframe()"
   ]
  },
  {
   "cell_type": "code",
   "execution_count": 307,
   "id": "ccc35d88-10a4-4c2c-b4cb-6a227a39d19f",
   "metadata": {},
   "outputs": [],
   "source": [
    "# create non-matches dataframe\n",
    "query = (\"\"\"\n",
    "SELECT \n",
    "\n",
    " address_entry_id_uprn\n",
    "FROM\n",
    "  `ons-ids-analysis-prod.demo_wip_notebook.lrpp_linked`\n",
    "WHERE address_entry_id_uprn is NULL\n",
    "\"\"\")\n",
    "\n",
    "query_job = client.query(\n",
    "    query,\n",
    "    location=\"europe-west2\",\n",
    ")  # API request - starts the query\n",
    "\n",
    "non_matches_lrpp = query_job.to_dataframe()"
   ]
  },
  {
   "cell_type": "code",
   "execution_count": 310,
   "id": "3907365b-9f01-4b5c-8810-3d2238ac3d89",
   "metadata": {},
   "outputs": [
    {
     "data": {
      "text/plain": [
       "24612812"
      ]
     },
     "execution_count": 310,
     "metadata": {},
     "output_type": "execute_result"
    }
   ],
   "source": [
    "len(matches)"
   ]
  },
  {
   "cell_type": "code",
   "execution_count": 311,
   "id": "6ca1b87b-2443-49e2-9360-b7e60b983335",
   "metadata": {},
   "outputs": [
    {
     "data": {
      "text/html": [
       "<div>\n",
       "<style scoped>\n",
       "    .dataframe tbody tr th:only-of-type {\n",
       "        vertical-align: middle;\n",
       "    }\n",
       "\n",
       "    .dataframe tbody tr th {\n",
       "        vertical-align: top;\n",
       "    }\n",
       "\n",
       "    .dataframe thead th {\n",
       "        text-align: right;\n",
       "    }\n",
       "</style>\n",
       "<table border=\"1\" class=\"dataframe\">\n",
       "  <thead>\n",
       "    <tr style=\"text-align: right;\">\n",
       "      <th></th>\n",
       "      <th>address_entry_id_uprn</th>\n",
       "      <th>t2_address_entry_id_uprn</th>\n",
       "    </tr>\n",
       "  </thead>\n",
       "  <tbody>\n",
       "    <tr>\n",
       "      <th>0</th>\n",
       "      <td>100000012966370</td>\n",
       "      <td>100000012966370</td>\n",
       "    </tr>\n",
       "    <tr>\n",
       "      <th>1</th>\n",
       "      <td>100000032249077</td>\n",
       "      <td>100000032249077</td>\n",
       "    </tr>\n",
       "    <tr>\n",
       "      <th>2</th>\n",
       "      <td>100000032274111</td>\n",
       "      <td>100000032274111</td>\n",
       "    </tr>\n",
       "    <tr>\n",
       "      <th>3</th>\n",
       "      <td>100000013294831</td>\n",
       "      <td>100000013294831</td>\n",
       "    </tr>\n",
       "    <tr>\n",
       "      <th>4</th>\n",
       "      <td>100000032257715</td>\n",
       "      <td>100000032257715</td>\n",
       "    </tr>\n",
       "    <tr>\n",
       "      <th>...</th>\n",
       "      <td>...</td>\n",
       "      <td>...</td>\n",
       "    </tr>\n",
       "    <tr>\n",
       "      <th>25836155</th>\n",
       "      <td>100000020977548</td>\n",
       "      <td>100000020977548</td>\n",
       "    </tr>\n",
       "    <tr>\n",
       "      <th>25836156</th>\n",
       "      <td>100000020158094</td>\n",
       "      <td>100000020158094</td>\n",
       "    </tr>\n",
       "    <tr>\n",
       "      <th>25836157</th>\n",
       "      <td>100000020189069</td>\n",
       "      <td>100000020189069</td>\n",
       "    </tr>\n",
       "    <tr>\n",
       "      <th>25836158</th>\n",
       "      <td>100000020194275</td>\n",
       "      <td>100000020194275</td>\n",
       "    </tr>\n",
       "    <tr>\n",
       "      <th>25836159</th>\n",
       "      <td>100000020538369</td>\n",
       "      <td>100000020538369</td>\n",
       "    </tr>\n",
       "  </tbody>\n",
       "</table>\n",
       "<p>25836160 rows × 2 columns</p>\n",
       "</div>"
      ],
      "text/plain": [
       "          address_entry_id_uprn  t2_address_entry_id_uprn\n",
       "0               100000012966370           100000012966370\n",
       "1               100000032249077           100000032249077\n",
       "2               100000032274111           100000032274111\n",
       "3               100000013294831           100000013294831\n",
       "4               100000032257715           100000032257715\n",
       "...                         ...                       ...\n",
       "25836155        100000020977548           100000020977548\n",
       "25836156        100000020158094           100000020158094\n",
       "25836157        100000020189069           100000020189069\n",
       "25836158        100000020194275           100000020194275\n",
       "25836159        100000020538369           100000020538369\n",
       "\n",
       "[25836160 rows x 2 columns]"
      ]
     },
     "execution_count": 311,
     "metadata": {},
     "output_type": "execute_result"
    }
   ],
   "source": [
    "ospos_lrpp_linked"
   ]
  },
  {
   "cell_type": "code",
   "execution_count": 314,
   "id": "69c2eb39-0ff5-4586-a13f-292e25da230c",
   "metadata": {},
   "outputs": [
    {
     "data": {
      "text/plain": [
       "Index(['address_entry_id_uprn', 't2_address_entry_id_uprn', '_merge'], dtype='object')"
      ]
     },
     "execution_count": 314,
     "metadata": {},
     "output_type": "execute_result"
    }
   ],
   "source": [
    "ospos_non_links.columns"
   ]
  },
  {
   "cell_type": "code",
   "execution_count": 320,
   "id": "92f98c96-c4bd-4380-8579-9d75a19c53ac",
   "metadata": {},
   "outputs": [
    {
     "data": {
      "text/plain": [
       "4094004"
      ]
     },
     "execution_count": 320,
     "metadata": {},
     "output_type": "execute_result"
    }
   ],
   "source": [
    "len(ospos[ospos['geography_entry_id_region_code'].isnull()==True])"
   ]
  },
  {
   "cell_type": "code",
   "execution_count": 321,
   "id": "ed770757-df35-4811-a9be-9d44285eb1a5",
   "metadata": {},
   "outputs": [],
   "source": [
    "# read in geography index lookup\n",
    "query = (\"\"\"\n",
    "SELECT \n",
    "\n",
    " *\n",
    "FROM\n",
    "  `ons-ids-analysis-prod.demo_wip_notebook.geography_index_lookup`\n",
    "\"\"\")\n",
    "\n",
    "query_job = client.query(\n",
    "    query,\n",
    "    location=\"europe-west2\",\n",
    ")  # API request - starts the query\n",
    "\n",
    "gi = query_job.to_dataframe()"
   ]
  },
  {
   "cell_type": "code",
   "execution_count": 323,
   "id": "9e9a4b04-cb69-4a0d-ad4b-0c7c93d0cac9",
   "metadata": {},
   "outputs": [],
   "source": [
    "# join to ospos\n",
    "ospos = pd.merge(ospos, gi, on = 'geography_entry_id_region_code', how = 'left')"
   ]
  },
  {
   "cell_type": "code",
   "execution_count": 333,
   "id": "691370bb-3a1a-49af-aafb-acaff2c32178",
   "metadata": {},
   "outputs": [],
   "source": [
    "links = ospos.region_name.value_counts().to_frame()"
   ]
  },
  {
   "cell_type": "code",
   "execution_count": 334,
   "id": "d7420ee7-3ac3-4a75-977a-4b7ec15e8b61",
   "metadata": {},
   "outputs": [],
   "source": [
    "links.columns = ['count']\n",
    "links.index.names = ['region']"
   ]
  },
  {
   "cell_type": "code",
   "execution_count": 335,
   "id": "112cd7e4-df30-4362-bf65-f66d8bf551dc",
   "metadata": {},
   "outputs": [],
   "source": [
    "non_links = ospos[ospos['address_entry_id_uprn'].isnull()==True]['region_name'].value_counts().to_frame()"
   ]
  },
  {
   "cell_type": "code",
   "execution_count": 336,
   "id": "32f34070-23d1-450d-ba2e-a313b40fb682",
   "metadata": {},
   "outputs": [],
   "source": [
    "non_links.columns = ['missing_count']\n",
    "non_links.index.names = ['region']"
   ]
  },
  {
   "cell_type": "code",
   "execution_count": 338,
   "id": "3a923571-0a45-4c22-a007-3df4e956d76c",
   "metadata": {},
   "outputs": [],
   "source": [
    "df = pd.merge(links, non_links, on = 'region', how = 'inner')"
   ]
  },
  {
   "cell_type": "code",
   "execution_count": 341,
   "id": "5e75e92a-875b-4df3-8a9f-0a5b7f58c447",
   "metadata": {},
   "outputs": [],
   "source": [
    "df['linked_proportion'] = df['count']/df['count'].sum()*100"
   ]
  },
  {
   "cell_type": "code",
   "execution_count": 343,
   "id": "ba8a318e-ddf3-469e-a131-b99362755ee2",
   "metadata": {},
   "outputs": [],
   "source": [
    "df['non-linked_proportion'] = df['missing_count']/df['missing_count'].sum()*100"
   ]
  },
  {
   "cell_type": "code",
   "execution_count": 352,
   "id": "8b14598e-88c3-4537-98ec-66ec964abafa",
   "metadata": {},
   "outputs": [
    {
     "data": {
      "text/html": [
       "<div>\n",
       "<style scoped>\n",
       "    .dataframe tbody tr th:only-of-type {\n",
       "        vertical-align: middle;\n",
       "    }\n",
       "\n",
       "    .dataframe tbody tr th {\n",
       "        vertical-align: top;\n",
       "    }\n",
       "\n",
       "    .dataframe thead th {\n",
       "        text-align: right;\n",
       "    }\n",
       "</style>\n",
       "<table border=\"1\" class=\"dataframe\">\n",
       "  <thead>\n",
       "    <tr style=\"text-align: right;\">\n",
       "      <th></th>\n",
       "      <th>count</th>\n",
       "      <th>missing_count</th>\n",
       "      <th>linked_proportion</th>\n",
       "      <th>non-linked_proportion</th>\n",
       "    </tr>\n",
       "    <tr>\n",
       "      <th>region</th>\n",
       "      <th></th>\n",
       "      <th></th>\n",
       "      <th></th>\n",
       "      <th></th>\n",
       "    </tr>\n",
       "  </thead>\n",
       "  <tbody>\n",
       "    <tr>\n",
       "      <th>South East</th>\n",
       "      <td>3975289</td>\n",
       "      <td>199</td>\n",
       "      <td>16.078</td>\n",
       "      <td>6.576</td>\n",
       "    </tr>\n",
       "    <tr>\n",
       "      <th>London</th>\n",
       "      <td>3705559</td>\n",
       "      <td>187</td>\n",
       "      <td>14.987</td>\n",
       "      <td>6.180</td>\n",
       "    </tr>\n",
       "    <tr>\n",
       "      <th>North West</th>\n",
       "      <td>3352136</td>\n",
       "      <td>857</td>\n",
       "      <td>13.558</td>\n",
       "      <td>28.321</td>\n",
       "    </tr>\n",
       "    <tr>\n",
       "      <th>East of England</th>\n",
       "      <td>2723723</td>\n",
       "      <td>583</td>\n",
       "      <td>11.016</td>\n",
       "      <td>19.266</td>\n",
       "    </tr>\n",
       "    <tr>\n",
       "      <th>South West</th>\n",
       "      <td>2604713</td>\n",
       "      <td>367</td>\n",
       "      <td>10.535</td>\n",
       "      <td>12.128</td>\n",
       "    </tr>\n",
       "    <tr>\n",
       "      <th>West Midlands</th>\n",
       "      <td>2538382</td>\n",
       "      <td>250</td>\n",
       "      <td>10.266</td>\n",
       "      <td>8.262</td>\n",
       "    </tr>\n",
       "    <tr>\n",
       "      <th>Yorkshire and The Humber</th>\n",
       "      <td>2453391</td>\n",
       "      <td>322</td>\n",
       "      <td>9.923</td>\n",
       "      <td>10.641</td>\n",
       "    </tr>\n",
       "    <tr>\n",
       "      <th>East Midlands</th>\n",
       "      <td>2123235</td>\n",
       "      <td>257</td>\n",
       "      <td>8.587</td>\n",
       "      <td>8.493</td>\n",
       "    </tr>\n",
       "    <tr>\n",
       "      <th>North East</th>\n",
       "      <td>1248477</td>\n",
       "      <td>4</td>\n",
       "      <td>5.049</td>\n",
       "      <td>0.132</td>\n",
       "    </tr>\n",
       "  </tbody>\n",
       "</table>\n",
       "</div>"
      ],
      "text/plain": [
       "                            count  missing_count  linked_proportion  \\\n",
       "region                                                                \n",
       "South East                3975289            199             16.078   \n",
       "London                    3705559            187             14.987   \n",
       "North West                3352136            857             13.558   \n",
       "East of England           2723723            583             11.016   \n",
       "South West                2604713            367             10.535   \n",
       "West Midlands             2538382            250             10.266   \n",
       "Yorkshire and The Humber  2453391            322              9.923   \n",
       "East Midlands             2123235            257              8.587   \n",
       "North East                1248477              4              5.049   \n",
       "\n",
       "                          non-linked_proportion  \n",
       "region                                           \n",
       "South East                                6.576  \n",
       "London                                    6.180  \n",
       "North West                               28.321  \n",
       "East of England                          19.266  \n",
       "South West                               12.128  \n",
       "West Midlands                             8.262  \n",
       "Yorkshire and The Humber                 10.641  \n",
       "East Midlands                             8.493  \n",
       "North East                                0.132  "
      ]
     },
     "execution_count": 352,
     "metadata": {},
     "output_type": "execute_result"
    }
   ],
   "source": [
    "df"
   ]
  },
  {
   "cell_type": "code",
   "execution_count": 354,
   "id": "794b1eb3-bb10-4b7b-b52c-84bf694f3817",
   "metadata": {},
   "outputs": [
    {
     "data": {
      "image/png": "[encoded data removed]",
      "text/plain": [
       "<Figure size 1000x800 with 1 Axes>"
      ]
     },
     "metadata": {},
     "output_type": "display_data"
    }
   ],
   "source": [
    "ax = df[['linked_proportion','non-linked_proportion']].plot.barh(figsize=(10,8))"
   ]
  },
  {
   "cell_type": "markdown",
   "id": "a5162f26-ec49-4cbe-b7af-46e15a34f5a5",
   "metadata": {},
   "source": [
    "For cases where records did not match to an RDMF index, for example the address index, their `address_entry_id` will be null. This allows identification of the non-matching records"
   ]
  },
  {
   "cell_type": "code",
   "execution_count": 355,
   "id": "623de6ec-5660-43d1-831b-7ab2de891594",
   "metadata": {},
   "outputs": [
    {
     "ename": "AttributeError",
     "evalue": "'DataFrame' object has no attribute 'address_entry_id_uprn'",
     "output_type": "error",
     "traceback": [
      "\u001b[0;31m---------------------------------------------------------------------------\u001b[0m",
      "\u001b[0;31mAttributeError\u001b[0m                            Traceback (most recent call last)",
      "\u001b[0;32m/tmp/ipykernel_15313/3928208770.py\u001b[0m in \u001b[0;36m<module>\u001b[0;34m\u001b[0m\n\u001b[0;32m----> 1\u001b[0;31m \u001b[0munmatched\u001b[0m  \u001b[0;34m=\u001b[0m \u001b[0mlen\u001b[0m\u001b[0;34m(\u001b[0m\u001b[0mdf\u001b[0m\u001b[0;34m[\u001b[0m\u001b[0mdf\u001b[0m\u001b[0;34m.\u001b[0m\u001b[0maddress_entry_id_uprn\u001b[0m\u001b[0;34m.\u001b[0m\u001b[0misnull\u001b[0m\u001b[0;34m(\u001b[0m\u001b[0;34m)\u001b[0m \u001b[0;34m==\u001b[0m \u001b[0;32mTrue\u001b[0m\u001b[0;34m]\u001b[0m\u001b[0;34m)\u001b[0m\u001b[0;34m\u001b[0m\u001b[0;34m\u001b[0m\u001b[0m\n\u001b[0m\u001b[1;32m      2\u001b[0m \u001b[0mmatched\u001b[0m  \u001b[0;34m=\u001b[0m \u001b[0mlen\u001b[0m\u001b[0;34m(\u001b[0m\u001b[0mdf\u001b[0m\u001b[0;34m[\u001b[0m\u001b[0mdf\u001b[0m\u001b[0;34m.\u001b[0m\u001b[0maddress_entry_id_uprn\u001b[0m\u001b[0;34m.\u001b[0m\u001b[0misnull\u001b[0m\u001b[0;34m(\u001b[0m\u001b[0;34m)\u001b[0m \u001b[0;34m==\u001b[0m \u001b[0;32mFalse\u001b[0m\u001b[0;34m]\u001b[0m\u001b[0;34m)\u001b[0m\u001b[0;34m\u001b[0m\u001b[0;34m\u001b[0m\u001b[0m\n\u001b[1;32m      3\u001b[0m \u001b[0;34m\u001b[0m\u001b[0m\n\u001b[1;32m      4\u001b[0m \u001b[0mprint\u001b[0m\u001b[0;34m(\u001b[0m\u001b[0;34m\"the match rate is:\"\u001b[0m\u001b[0;34m,\u001b[0m \u001b[0;34m(\u001b[0m\u001b[0;34m(\u001b[0m\u001b[0mmatched\u001b[0m\u001b[0;34m-\u001b[0m\u001b[0munmatched\u001b[0m\u001b[0;34m)\u001b[0m\u001b[0;34m/\u001b[0m\u001b[0mmatched\u001b[0m\u001b[0;34m)\u001b[0m\u001b[0;34m*\u001b[0m\u001b[0;36m100\u001b[0m\u001b[0;34m)\u001b[0m\u001b[0;34m\u001b[0m\u001b[0;34m\u001b[0m\u001b[0m\n",
      "\u001b[0;32m/opt/conda/lib/python3.7/site-packages/pandas/core/generic.py\u001b[0m in \u001b[0;36m__getattr__\u001b[0;34m(self, name)\u001b[0m\n\u001b[1;32m   5485\u001b[0m         ):\n\u001b[1;32m   5486\u001b[0m             \u001b[0;32mreturn\u001b[0m \u001b[0mself\u001b[0m\u001b[0;34m[\u001b[0m\u001b[0mname\u001b[0m\u001b[0;34m]\u001b[0m\u001b[0;34m\u001b[0m\u001b[0;34m\u001b[0m\u001b[0m\n\u001b[0;32m-> 5487\u001b[0;31m         \u001b[0;32mreturn\u001b[0m \u001b[0mobject\u001b[0m\u001b[0;34m.\u001b[0m\u001b[0m__getattribute__\u001b[0m\u001b[0;34m(\u001b[0m\u001b[0mself\u001b[0m\u001b[0;34m,\u001b[0m \u001b[0mname\u001b[0m\u001b[0;34m)\u001b[0m\u001b[0;34m\u001b[0m\u001b[0;34m\u001b[0m\u001b[0m\n\u001b[0m\u001b[1;32m   5488\u001b[0m \u001b[0;34m\u001b[0m\u001b[0m\n\u001b[1;32m   5489\u001b[0m     \u001b[0;32mdef\u001b[0m \u001b[0m__setattr__\u001b[0m\u001b[0;34m(\u001b[0m\u001b[0mself\u001b[0m\u001b[0;34m,\u001b[0m \u001b[0mname\u001b[0m\u001b[0;34m:\u001b[0m \u001b[0mstr\u001b[0m\u001b[0;34m,\u001b[0m \u001b[0mvalue\u001b[0m\u001b[0;34m)\u001b[0m \u001b[0;34m->\u001b[0m \u001b[0;32mNone\u001b[0m\u001b[0;34m:\u001b[0m\u001b[0;34m\u001b[0m\u001b[0;34m\u001b[0m\u001b[0m\n",
      "\u001b[0;31mAttributeError\u001b[0m: 'DataFrame' object has no attribute 'address_entry_id_uprn'"
     ]
    }
   ],
   "source": [
    "unmatched  = len(df[df.address_entry_id_uprn.isnull() == True])\n",
    "matched  = len(df[df.address_entry_id_uprn.isnull() == False])\n",
    "\n",
    "print(\"the match rate is:\", ((matched-unmatched)/matched)*100)"
   ]
  },
  {
   "cell_type": "markdown",
   "id": "4e09e4c2-59bb-43e6-8f72-a76bb9cfb2cc",
   "metadata": {},
   "source": [
    "The analysts can then easily explore the characteristics of the non-linking data. For instance, exploring the trends in matches vs non-matches by region:"
   ]
  },
  {
   "cell_type": "code",
   "execution_count": 10,
   "id": "d29dcfbf-17e7-44cf-8b30-dbcf0fcbdd3e",
   "metadata": {},
   "outputs": [
    {
     "data": {
      "text/plain": [
       "26886828"
      ]
     },
     "execution_count": 10,
     "metadata": {},
     "output_type": "execute_result"
    }
   ],
   "source": [
    "# read in geography index lookup, join on geography_entry_region_code\n",
    "\n",
    "# hashed values - can aggregate on these hashed values to explore bias (i.e. same hashed uprn for same hh)\n",
    "\n",
    "# match rate by region"
   ]
  },
  {
   "cell_type": "code",
   "execution_count": null,
   "id": "b1a9d981-0e3e-4f35-84b8-20e0a65b8866",
   "metadata": {},
   "outputs": [],
   "source": [
    "# exploring LRPP join\n",
    "query = (\"\"\"\n",
    "SELECT \n",
    "COUNT(*) as numRecords\n",
    "\n",
    "FROM `ingest_ida_land_registry_price_paid.prices_paid_georef` t1\n",
    "JOIN `ingest_ida_land_registry_price_paid.prices_paid_std` t2\n",
    "\n",
    "ON t1.id = t2.guid;\n",
    "\"\"\")\n",
    "\n",
    "query_job = client.query(\n",
    "    query,\n",
    "    location=\"europe-west2\",\n",
    ")  # API request - starts the query\n",
    "\n",
    "df  = query_job.to_dataframe()"
   ]
  },
  {
   "cell_type": "code",
   "execution_count": 30,
   "id": "3e737663-d61f-412d-89e7-4d0a57039236",
   "metadata": {},
   "outputs": [
    {
     "data": {
      "text/html": [
       "<div>\n",
       "<style scoped>\n",
       "    .dataframe tbody tr th:only-of-type {\n",
       "        vertical-align: middle;\n",
       "    }\n",
       "\n",
       "    .dataframe tbody tr th {\n",
       "        vertical-align: top;\n",
       "    }\n",
       "\n",
       "    .dataframe thead th {\n",
       "        text-align: right;\n",
       "    }\n",
       "</style>\n",
       "<table border=\"1\" class=\"dataframe\">\n",
       "  <thead>\n",
       "    <tr style=\"text-align: right;\">\n",
       "      <th></th>\n",
       "      <th>numRecords</th>\n",
       "    </tr>\n",
       "  </thead>\n",
       "  <tbody>\n",
       "    <tr>\n",
       "      <th>0</th>\n",
       "      <td>26889532</td>\n",
       "    </tr>\n",
       "  </tbody>\n",
       "</table>\n",
       "</div>"
      ],
      "text/plain": [
       "   numRecords\n",
       "0    26889532"
      ]
     },
     "execution_count": 30,
     "metadata": {},
     "output_type": "execute_result"
    }
   ],
   "source": [
    "# all 26889532 records join\n",
    "df"
   ]
  },
  {
   "cell_type": "code",
   "execution_count": 16,
   "id": "a18ff214-b8fe-49bc-a8c7-cb4816f050d4",
   "metadata": {},
   "outputs": [],
   "source": [
    "# exploring LRPP columns, querying where a false condition is true to just return column names\n",
    "query = (\"\"\"\n",
    "SELECT * \n",
    "\n",
    "FROM `ingest_ida_land_registry_price_paid.prices_paid_std`\n",
    "\n",
    "WHERE 1 = 0\n",
    "\"\"\")\n",
    "\n",
    "query_job = client.query(\n",
    "    query,\n",
    "    location=\"europe-west2\",\n",
    ")  # API request - starts the query\n",
    "\n",
    "df  = query_job.to_dataframe()\n"
   ]
  },
  {
   "cell_type": "code",
   "execution_count": 17,
   "id": "d84ad140-ffea-4476-adb7-21148e476749",
   "metadata": {},
   "outputs": [
    {
     "data": {
      "text/plain": [
       "['geography_entry_id_postcode',\n",
       " 'postcode_hashed',\n",
       " 'guid',\n",
       " 'transaction_uid',\n",
       " 'price',\n",
       " 'date_of_transfer',\n",
       " 'property_type',\n",
       " 'old_new',\n",
       " 'duration',\n",
       " 'locality',\n",
       " 'ppd_category_type',\n",
       " 'derived_year']"
      ]
     },
     "execution_count": 17,
     "metadata": {},
     "output_type": "execute_result"
    }
   ],
   "source": [
    "df.columns.tolist()"
   ]
  }
 ],
 "metadata": {
  "environment": {
   "kernel": "python3",
   "name": "common-cpu.m96",
   "type": "gcloud",
   "uri": "gcr.io/deeplearning-platform-release/base-cpu:m96"
  },
  "kernelspec": {
   "display_name": "Python 3",
   "language": "python",
   "name": "python3"
  },
  "language_info": {
   "codemirror_mode": {
    "name": "ipython",
    "version": 3
   },
   "file_extension": ".py",
   "mimetype": "text/x-python",
   "name": "python",
   "nbconvert_exporter": "python",
   "pygments_lexer": "ipython3",
   "version": "3.7.12"
  }
 },
 "nbformat": 4,
 "nbformat_minor": 5
}
