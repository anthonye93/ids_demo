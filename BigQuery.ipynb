{
 "cells": [
  {
   "cell_type": "code",
   "execution_count": null,
   "id": "18c76091-6565-4867-a06f-4a18c9e2068d",
   "metadata": {},
   "outputs": [],
   "source": [
    "from google.cloud import bigquery\n",
    "\n",
    "# Construct a BigQuery client object.\n",
    "client = bigquery.Client()\n",
    "\n",
    "query = \"\"\"\n",
    "    SELECT *\n",
    "    FROM `ons-ids-denodo-prod.epc.epc`\n",
    "    LIMIT 1000000\n",
    "\"\"\"\n",
    "query_job = client.query(query)  # Make an API request.\n",
    "\n",
    "df = query_job.to_dataframe()\n",
    "\n",
    "df"
   ]
  },
  {
   "cell_type": "code",
   "execution_count": null,
   "id": "6f708474-1682-47c4-bd1a-e18b504173e6",
   "metadata": {},
   "outputs": [],
   "source": [
    "from pyspark.sql import SparkSession\n",
    "\n",
    "spark = SparkSession.builder.appName('My-App').config('spark.jars.packages', 'com.google.cloud.spark:spark-bigquery-with-dependencies_2.12:0.24.2') \\\n",
    ".getOrCreate()\n",
    "\n",
    "spark\n",
    "\n",
    "table = \"ons-ids-denodo-prod.epc.epc\" \n",
    "\n",
    "df = spark.read \\\n",
    "  .format(\"bigquery\") \\\n",
    "  .option(\"table\", table) \\\n",
    "  .load()\n",
    "\n",
    "df.show(5)"
   ]
  },
  {
   "cell_type": "code",
   "execution_count": null,
   "id": "9ef5491a-0dae-4705-a165-adb1bb586574",
   "metadata": {},
   "outputs": [],
   "source": [
    "\"\"\"\n",
    "print(\"The query data:\")\n",
    "for row in query_job:\n",
    "    # Row values can be accessed by field name or index.\n",
    "    print(row)\n",
    "\"\"\""
   ]
  },
  {
   "cell_type": "code",
   "execution_count": null,
   "id": "e7a1a8ed-3c66-47d0-845f-09aa50a721c5",
   "metadata": {},
   "outputs": [],
   "source": [
    "df = spark.read.format('bigquery') \\\n",
    "  .option('table', 'ons-ids-denodo-prod:epc.epc') \\\n",
    "  .load()"
   ]
  }
 ],
 "metadata": {
  "environment": {
   "kernel": "python3",
   "name": "common-cpu.m96",
   "type": "gcloud",
   "uri": "gcr.io/deeplearning-platform-release/base-cpu:m96"
  },
  "kernelspec": {
   "display_name": "Python 3",
   "language": "python",
   "name": "python3"
  },
  "language_info": {
   "codemirror_mode": {
    "name": "ipython",
    "version": 3
   },
   "file_extension": ".py",
   "mimetype": "text/x-python",
   "name": "python",
   "nbconvert_exporter": "python",
   "pygments_lexer": "ipython3",
   "version": "3.7.12"
  }
 },
 "nbformat": 4,
 "nbformat_minor": 5
}
